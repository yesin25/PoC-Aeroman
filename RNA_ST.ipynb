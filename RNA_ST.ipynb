{
  "nbformat": 4,
  "nbformat_minor": 0,
  "metadata": {
    "colab": {
      "provenance": [],
      "mount_file_id": "14K7wxNlVsE58jqhnw4CzJKx81ge3e_KZ",
      "authorship_tag": "ABX9TyPV5BoMeBj29kHmrCkx941C",
      "include_colab_link": true
    },
    "kernelspec": {
      "name": "python3",
      "display_name": "Python 3"
    },
    "language_info": {
      "name": "python"
    }
  },
  "cells": [
    {
      "cell_type": "markdown",
      "metadata": {
        "id": "view-in-github",
        "colab_type": "text"
      },
      "source": [
        "<a href=\"https://colab.research.google.com/github/yesin25/PoC-Aeroman/blob/main/RNA_ST.ipynb\" target=\"_parent\"><img src=\"https://colab.research.google.com/assets/colab-badge.svg\" alt=\"Open In Colab\"/></a>"
      ]
    },
    {
      "cell_type": "code",
      "metadata": {
        "colab": {
          "base_uri": "https://localhost:8080/"
        },
        "id": "it6oY6rqx4Kc",
        "outputId": "0611c644-cac2-48dc-956b-9e577322e25d"
      },
      "source": [
        "%tensorflow_version 1.x\n",
        "import tensorflow as tf\n",
        "print(tf.__version__)\n"
      ],
      "execution_count": null,
      "outputs": [
        {
          "output_type": "stream",
          "text": [
            "TensorFlow 1.x selected.\n",
            "1.15.2\n"
          ],
          "name": "stdout"
        }
      ]
    },
    {
      "cell_type": "markdown",
      "metadata": {
        "id": "jDSDJRe79wg4"
      },
      "source": [
        "Chekando Aeroman"
      ]
    },
    {
      "cell_type": "code",
      "metadata": {
        "id": "TaCny3cj9t1S"
      },
      "source": [
        "import numpy as np\n",
        "import pandas as pd\n",
        "import matplotlib.pyplot as plt\n",
        "import seaborn as sns\n",
        "import matplotlib as mpl\n",
        "plt.rcParams.update({'figure.figsize':(10,7), 'figure.dpi':120})"
      ],
      "execution_count": null,
      "outputs": []
    },
    {
      "cell_type": "code",
      "metadata": {
        "id": "phH7qqw-9uAx"
      },
      "source": [
        "#path_dataset=/content/drive/MyDrive/Prayaga/Proyectos 1.0/Aeroman/aeroman_limpio.xlsx"
      ],
      "execution_count": null,
      "outputs": []
    },
    {
      "cell_type": "markdown",
      "metadata": {
        "id": "OQonzcdz-ggq"
      },
      "source": [
        "### 1.Importando dataset"
      ]
    },
    {
      "cell_type": "code",
      "metadata": {
        "id": "WRNLJt_H9uLo"
      },
      "source": [
        "#df=pd.read_excel(\"\".join(path_dataset,\"data_limpia_aeroman.xlsx\"))"
      ],
      "execution_count": null,
      "outputs": []
    },
    {
      "cell_type": "code",
      "metadata": {
        "id": "r6GWvzOZCPAo"
      },
      "source": [
        "df=pd.read_excel(\"/content/drive/MyDrive/Prayaga/Proyectos 1.0/Aeroman/aeroman_limpio.xlsx\")"
      ],
      "execution_count": null,
      "outputs": []
    },
    {
      "cell_type": "code",
      "metadata": {
        "colab": {
          "base_uri": "https://localhost:8080/",
          "height": 513
        },
        "id": "l5S3EplA-1eq",
        "outputId": "1d177ca6-9241-4122-bf5b-e827963d2588"
      },
      "source": [
        "df.head()"
      ],
      "execution_count": null,
      "outputs": [
        {
          "output_type": "execute_result",
          "data": {
            "text/html": [
              "<div>\n",
              "<style scoped>\n",
              "    .dataframe tbody tr th:only-of-type {\n",
              "        vertical-align: middle;\n",
              "    }\n",
              "\n",
              "    .dataframe tbody tr th {\n",
              "        vertical-align: top;\n",
              "    }\n",
              "\n",
              "    .dataframe thead th {\n",
              "        text-align: right;\n",
              "    }\n",
              "</style>\n",
              "<table border=\"1\" class=\"dataframe\">\n",
              "  <thead>\n",
              "    <tr style=\"text-align: right;\">\n",
              "      <th></th>\n",
              "      <th>Hour of day</th>\n",
              "      <th>Qc Code</th>\n",
              "      <th>Qc Name</th>\n",
              "      <th>Employee Code</th>\n",
              "      <th>Employee Name</th>\n",
              "      <th>QC Log On Time</th>\n",
              "      <th>QC Log Off Time</th>\n",
              "      <th>Hangar</th>\n",
              "      <th>Aircraft</th>\n",
              "      <th>Taskcard Number</th>\n",
              "      <th>R / NR</th>\n",
              "      <th>TC Code</th>\n",
              "      <th>Request Type</th>\n",
              "      <th>Request Status</th>\n",
              "      <th>Wait Time</th>\n",
              "      <th>AVG Insp Time</th>\n",
              "      <th>Time_Insp_finalizado</th>\n",
              "      <th>Fecha</th>\n",
              "      <th>Time_Insp_finalizado_minutos</th>\n",
              "      <th>Time_espera_minutos</th>\n",
              "      <th>Time_Total_minutos</th>\n",
              "    </tr>\n",
              "  </thead>\n",
              "  <tbody>\n",
              "    <tr>\n",
              "      <th>0</th>\n",
              "      <td>7</td>\n",
              "      <td>8604810</td>\n",
              "      <td>MARIO JOSE RODAS TORRES</td>\n",
              "      <td>8603819</td>\n",
              "      <td>FATIMA PATRICIA CHAVEZ VILLAGRAN</td>\n",
              "      <td>2020-05-02 07:37:32</td>\n",
              "      <td>2020-05-02 08:03:54</td>\n",
              "      <td>H1</td>\n",
              "      <td>N321R1</td>\n",
              "      <td>2020-91739</td>\n",
              "      <td>N</td>\n",
              "      <td>PRD</td>\n",
              "      <td>NC</td>\n",
              "      <td>CLOSED</td>\n",
              "      <td>00:43:48</td>\n",
              "      <td>00:26:22</td>\n",
              "      <td>00:26:22</td>\n",
              "      <td>2020-05-02 07:37:32</td>\n",
              "      <td>26.366667</td>\n",
              "      <td>43.800000</td>\n",
              "      <td>70.166667</td>\n",
              "    </tr>\n",
              "    <tr>\n",
              "      <th>1</th>\n",
              "      <td>7</td>\n",
              "      <td>8606312</td>\n",
              "      <td>ALEXIS ANTONIO PONCE PINEDA</td>\n",
              "      <td>8604812</td>\n",
              "      <td>LUIS ALBERTO PEREZ ROBLES</td>\n",
              "      <td>2020-05-02 07:41:44</td>\n",
              "      <td>2020-05-02 07:50:18</td>\n",
              "      <td>H6</td>\n",
              "      <td>N627E1</td>\n",
              "      <td>2020-171783</td>\n",
              "      <td>N</td>\n",
              "      <td>PRD</td>\n",
              "      <td>CR</td>\n",
              "      <td>CLOSED</td>\n",
              "      <td>00:01:08</td>\n",
              "      <td>00:08:34</td>\n",
              "      <td>00:08:34</td>\n",
              "      <td>2020-05-02 07:41:44</td>\n",
              "      <td>8.566667</td>\n",
              "      <td>1.133333</td>\n",
              "      <td>9.700000</td>\n",
              "    </tr>\n",
              "    <tr>\n",
              "      <th>2</th>\n",
              "      <td>7</td>\n",
              "      <td>8602999</td>\n",
              "      <td>JOSE ANTONIO CORTEZ RIVAS</td>\n",
              "      <td>8603309</td>\n",
              "      <td>ALVARO ANTONIO MATA JOAQUIN</td>\n",
              "      <td>2020-05-02 07:46:13</td>\n",
              "      <td>2020-05-02 08:01:12</td>\n",
              "      <td>H2|H3</td>\n",
              "      <td>N473S1</td>\n",
              "      <td>2020-142741</td>\n",
              "      <td>R</td>\n",
              "      <td>PRD</td>\n",
              "      <td>CR</td>\n",
              "      <td>CLOSED</td>\n",
              "      <td>00:02:14</td>\n",
              "      <td>00:14:59</td>\n",
              "      <td>00:14:59</td>\n",
              "      <td>2020-05-02 07:46:13</td>\n",
              "      <td>14.983333</td>\n",
              "      <td>2.233333</td>\n",
              "      <td>17.216667</td>\n",
              "    </tr>\n",
              "    <tr>\n",
              "      <th>3</th>\n",
              "      <td>7</td>\n",
              "      <td>8613808</td>\n",
              "      <td>ULISES ROBERTO LOPEZ PEREZ</td>\n",
              "      <td>8604814</td>\n",
              "      <td>ERICK FABRICIO LEON MEJIA</td>\n",
              "      <td>2020-05-02 07:51:45</td>\n",
              "      <td>2020-05-02 09:46:14</td>\n",
              "      <td>H5</td>\n",
              "      <td>N118I1</td>\n",
              "      <td>2020-111039</td>\n",
              "      <td>N</td>\n",
              "      <td>ADD</td>\n",
              "      <td>CR</td>\n",
              "      <td>CLOSED</td>\n",
              "      <td>00:01:19</td>\n",
              "      <td>01:54:29</td>\n",
              "      <td>01:54:29</td>\n",
              "      <td>2020-05-02 07:51:45</td>\n",
              "      <td>114.483333</td>\n",
              "      <td>1.316667</td>\n",
              "      <td>115.800000</td>\n",
              "    </tr>\n",
              "    <tr>\n",
              "      <th>4</th>\n",
              "      <td>7</td>\n",
              "      <td>8629612</td>\n",
              "      <td>SERGIO EDUARDO ASCENCIO ALFARO</td>\n",
              "      <td>8615015</td>\n",
              "      <td>JUAN DANIEL REYES DEL CID</td>\n",
              "      <td>2020-05-02 07:56:38</td>\n",
              "      <td>2020-05-02 08:17:49</td>\n",
              "      <td>H6</td>\n",
              "      <td>NaN</td>\n",
              "      <td>2020-171802</td>\n",
              "      <td>N</td>\n",
              "      <td>ADD</td>\n",
              "      <td>CR</td>\n",
              "      <td>CLOSED</td>\n",
              "      <td>00:04:04</td>\n",
              "      <td>00:21:11</td>\n",
              "      <td>00:21:11</td>\n",
              "      <td>2020-05-02 07:56:38</td>\n",
              "      <td>21.183333</td>\n",
              "      <td>4.066667</td>\n",
              "      <td>25.250000</td>\n",
              "    </tr>\n",
              "  </tbody>\n",
              "</table>\n",
              "</div>"
            ],
            "text/plain": [
              "   Hour of day  Qc Code  ... Time_espera_minutos Time_Total_minutos\n",
              "0            7  8604810  ...           43.800000          70.166667\n",
              "1            7  8606312  ...            1.133333           9.700000\n",
              "2            7  8602999  ...            2.233333          17.216667\n",
              "3            7  8613808  ...            1.316667         115.800000\n",
              "4            7  8629612  ...            4.066667          25.250000\n",
              "\n",
              "[5 rows x 21 columns]"
            ]
          },
          "metadata": {},
          "execution_count": 7
        }
      ]
    },
    {
      "cell_type": "code",
      "metadata": {
        "colab": {
          "base_uri": "https://localhost:8080/"
        },
        "id": "31jRuOxK-4iJ",
        "outputId": "bae79152-0cc3-4f40-a49b-788760b29e89"
      },
      "source": [
        "df['Qc Name'].value_counts()"
      ],
      "execution_count": null,
      "outputs": [
        {
          "output_type": "execute_result",
          "data": {
            "text/plain": [
              "FRANCISCO JAVIER SIBRIAN GUTIERREZ    2782\n",
              "RICARDO MAURICIO PINEDA CORNEJO       2068\n",
              "JESUS ORLANDO PEREZ HERNANDEZ         2043\n",
              "NOE EDGARDO MARTINEZ MARTINEZ         1996\n",
              "JUAN PABLO SERVELLON CORTEZ           1824\n",
              "                                      ... \n",
              "MARIA JOSE MORAN ESCOBAR                 5\n",
              "DENNIS EDGARDO LUNA MELARA               4\n",
              "CARLOS GERSON CARRANZA MENA              2\n",
              "IVAN ALEXANDER ERAZO DERAS               1\n",
              "JOSE EFRAIN FUNES BELLOSO                1\n",
              "Name: Qc Name, Length: 176, dtype: int64"
            ]
          },
          "metadata": {},
          "execution_count": 8
        }
      ]
    },
    {
      "cell_type": "code",
      "metadata": {
        "colab": {
          "base_uri": "https://localhost:8080/"
        },
        "id": "RiJfAo2C-_uY",
        "outputId": "cf79491c-15aa-43bd-caf4-6069176d351f"
      },
      "source": [
        "df['Qc Name'].unique()"
      ],
      "execution_count": null,
      "outputs": [
        {
          "output_type": "execute_result",
          "data": {
            "text/plain": [
              "array(['MARIO JOSE RODAS TORRES', 'ALEXIS ANTONIO PONCE PINEDA',\n",
              "       'JOSE ANTONIO CORTEZ RIVAS', 'ULISES ROBERTO LOPEZ PEREZ',\n",
              "       'SERGIO EDUARDO ASCENCIO ALFARO', 'JOSUE MILTON FLORES OSEGUEDA',\n",
              "       'JOSE HUMBERTO MORENO GUERRERO', 'ADALBERTO VLADIMIR LEON',\n",
              "       'DOUGLAS GUILLERMO LOPEZ MENDEZ',\n",
              "       'JONATHAN ENRIQUE GARCIA CANALES', 'FRANKLIN OMAR MARTINEZ FLORES',\n",
              "       'SALVADOR MORAN VARELA', 'ORLANDO ENRIQUE CONTRERAS SINTIGO',\n",
              "       'JORGE ISAAC RAMIREZ GIL', 'FRANCISCO JAVIER SIBRIAN GUTIERREZ',\n",
              "       'MANUEL DE JESUS LARA ALVARADO', 'ENRIQUE ERNESTO SOLIS VASQUEZ',\n",
              "       'WILFRED VASQUEZ CORENA', 'SALVADOR OSMIN GOMEZ SANTOS',\n",
              "       'ROBERTO MAURICIO QUINTANILLA PATIÑO', 'EDWIN ROBERTO FABIAN',\n",
              "       'MARIO ERNESTO MILLA', 'MAURICIO EDGARDO GUARDADO MELGAR',\n",
              "       'RAFAEL ALEJANDRO MURILLO ASCENCIO',\n",
              "       'LUIS RICARDO MARTINEZ HERNANDEZ',\n",
              "       'ROLANDO DE JESUS CARBALLO GUZMAN',\n",
              "       'RICARDO SANTOS ALVARENGA RIVERA', 'MIGUEL EVENOR SISCO LOPEZ',\n",
              "       'GEOVANNY ANTONIO AGUIRRE MENA', 'ELMER ENRIQUE AMAYA AGUILAR',\n",
              "       'JUAN PABLO SERVELLON CORTEZ', 'JUAN MANUEL VENTURA MARROQUIN',\n",
              "       'EVER BLADIMIR MONTIEL PRUDENCIO', 'NELSON JOEL CHINCHILLA ORTIZ',\n",
              "       'DENIS ANTONIO GARCIA ORTIZ', 'WILLIAM OMAR FLORES FRANCO',\n",
              "       'JESUS ANTONIO CHICAS RODRIGUEZ', 'YASIR ALJADHIK CALDERON',\n",
              "       'JOSE MIGUEL GONZALEZ GRANILLO', 'OSCAR RENE JOVEL CARRILLO',\n",
              "       'MARIO EDUARDO BRAN MEZA', 'CARLOS ENRIQUE AVILES RODAS',\n",
              "       'JOSE ANGEL DIAZ DE LA CRUZ', 'ROSARIO GUILBER NOVALES VARGAS',\n",
              "       'JOSE IVAN INTERIANO ESCOBAR', 'NOE EDGARDO MARTINEZ MARTINEZ',\n",
              "       'JOSE MAURICIO RIVAS ARGUETA', 'ERICK RAMON SOLIZ SIBRIAN',\n",
              "       'SAUL ALVARADO POSADA', 'MANUEL ALEJANDRO SANCHEZ RODAS',\n",
              "       'JORGE ALFREDO JACINTO VENTURA', 'NELSON ENRIQUE CARPIO ROMERO',\n",
              "       'ODIR ALBERTO CAÑAS CRUZ', 'JOSUE RODOLFO VENTURA RODRIGUEZ',\n",
              "       'HECTOR ANTONIO SALINAS ROMERO', 'JAIME MAURICIO LOPEZ LOZANO',\n",
              "       'FREDY GUILLERMO GARCIA MIJANGO',\n",
              "       'DAVID ALEJANDRO DOMINGUEZ ANGEL',\n",
              "       'MARCELO EDUARDO RAMIREZ CASTRO', 'JORGE ARTURO FIGUEROA ALVARADO',\n",
              "       'JOSE ROBERTO FLORES ESCOBAR', 'RODOLFO SALVADOR ARCILES NAJARRO',\n",
              "       'FRANCISCO ANTONIO BENAVIDES PINEDA',\n",
              "       'LUIS ALBERTO BARRERA GARCIA', 'MANUEL GIOVANNI MAGAÑA MARTINEZ',\n",
              "       'JOSE MIGUEL ROSALES QUINTEROS', 'WILLIAM OMAR ALVAREZ ALVAREZ',\n",
              "       'JAVIER ALEJANDRO GUILLEN HENRIQUEZ',\n",
              "       'JESUS ORLANDO PEREZ HERNANDEZ', 'JOSE JAIME CASTRO RODRIGUEZ',\n",
              "       'CARLOS ANTONIO ORELLANA VASQUEZ',\n",
              "       'RICARDO MAURICIO PINEDA CORNEJO',\n",
              "       'ENRIQUE GIOVANNI GARCIA QUINTANILLA', 'ELI ANTONIO FIGUEROA CRUZ',\n",
              "       'DOUGLAS ERNESTO POCASANGRE POCASANGRE',\n",
              "       'WILLIAMS ALEXANDER SANCHEZ UMAÑA',\n",
              "       'JOEL ALEXANDER FLORES NAVARRETE', 'YONI DANIEL CRUZ GARCIA',\n",
              "       'JUAN CARLOS CRUZ REYES', 'BELIX AUGUSTO ALEGRIA RAMIREZ',\n",
              "       'MIGUEL ANTONIO CHORRO ZEPEDA', 'KAREN IVETTE VASQUEZ DE PEÑA',\n",
              "       'CARLOS ERNESTO AYALA MOLINA', 'EDUARDO ERNESTO FLORES SERRANO',\n",
              "       'GIOVANNI VLADIMIR PORTILLO MELENDEZ',\n",
              "       'JOSE ALEJANDRO MONTES PASCUAL', 'CARLOS GERSON CARRANZA MENA',\n",
              "       'NESTOR ADALBERTO FLORES', 'KENNDALL ARMANDO ELVIRA MARTINEZ',\n",
              "       'MARIO ADONAY MENDEZ HERNANDEZ', 'ERNESTO JOSE GARCIA ALVARENGA',\n",
              "       'GEOVANNI MARXOXEL RODRIGUEZ AMAYA',\n",
              "       'KEVIN ALBERTO CALPAÑO FUENTES', 'JOSE RAUL MENDEZ HERNANDEZ',\n",
              "       'JOSE ALFREDO RIGOBERTO FLORES SILIEZAR',\n",
              "       'ADOLFO ALBERTO CASTRO CHACON', 'DENYS ALEXANDER TORRES RENDEROS',\n",
              "       'EDWIN GEOVANNY DIAZ CONSTANZA', 'JOSE ADOLFO MELENDEZ CRESPIN',\n",
              "       'ANDY MILTON HERNANDEZ MARTINEZ', 'ARIEL MARIA POZAS FIGUEROA',\n",
              "       'MANUEL ALBERTO ALVAREZ RODAS', 'ELIO WILSON NAVARRETE GUARDADO',\n",
              "       'MIGUEL AMAYA SERRANO', 'EMERSON ARIEL CASTRO MEJIA',\n",
              "       'MARIO JESUS CRUZ GARCIA', 'JOHN JOSSUE STANLEY VANEGAS CABALLERO',\n",
              "       'JOSUE ALEXANDER GUZMAN CAMPOS', 'ROBERTO CARLOS MELARA ROMERO',\n",
              "       'TEOFILO EDILBERTO JOAQUIN PINEDA CUELLAR',\n",
              "       'ESAU ALEXANDER PORTILLO SANCHEZ',\n",
              "       'EDWIN ARMANDO GUARDADO SERVELLON', 'JULIO CESAR ALBERTO MEJIA',\n",
              "       'CESAR FERNANDO BELTRAN CASTILLO',\n",
              "       'GUILLERMO DANILO ELIZONDO GOMEZ',\n",
              "       'ROMULO ALBERTO EFIGENIO HERNANDEZ',\n",
              "       'ULISES ALEXANDER OSORIO HENRIQUEZ',\n",
              "       'SAMUEL EDUARDO ANGULO LANDAVERDE', 'RUBEN ERNESTO ARGUETA ABREGO',\n",
              "       'JULIO EZEQUIEL PORTILLO CAMPOS', 'EFRAIN ALFREDO GOMEZ JULE',\n",
              "       'HERMANN ALEXIS CARDONA QUIJANO', 'ERNESTO IVAN CRUZ PEREZ',\n",
              "       'DAVID ROBERTO MARROQUIN FLORES',\n",
              "       'ELIZANDRO EDENILSON PEREZ RAMIREZ', 'MARIO ELMER PALENCIA',\n",
              "       'ANGEL JONATHAN SEGURA HERNANDEZ', 'DAVID ELISEO AREVALO LOPEZ',\n",
              "       'EDIMIR ANTONIO LOPEZ SANCHEZ', 'VALENTIN OSORIO ALVAREZ',\n",
              "       'MARTIN EDUARDO FLORES BORJA', 'CARLOS ANTONIO CHACON HERNANDEZ',\n",
              "       'FRANKLIN ALEXANDER QUINTANILLA MEJIA', 'ERICK ANTONIO MEJIA',\n",
              "       'HECTOR EDUARDO BARRERA PADILLA',\n",
              "       'ALVARO FRANKLIN AGUILLON BERMUDEZ',\n",
              "       'EDWIN RICARDO GARCIA URQUILLA', 'JOSE EFRAIN FUNES BELLOSO',\n",
              "       'CARLOS ADALBERTO FIGUEROA MEJIA',\n",
              "       'LISANDRO MAURICIO TURCIOS CEDILLOS',\n",
              "       'GUSTAVO ADOLFO LOPEZ FRANCO', 'TOMAS ERNESTO ALFARO RIVERA',\n",
              "       'ALEJANDRO MANUEL CRUZ AGUILAR', 'SAUL ELIEZER MENDEZ QUIJANO',\n",
              "       'WILLIAMS FRANCISCO GONZALEZ BARRERA',\n",
              "       'ISAI EFRAIN GONZALEZ RAMOS', 'ALISSON GABRIELA MARTINEZ LOPEZ',\n",
              "       'MORIAN EDUARDO ESTACUY MARTINEZ', 'HERNAN NIETO NIETO',\n",
              "       'SAMUEL JOSE ALVAREZ RIVERA', 'JOSE CARLOS RIVAS MORALES',\n",
              "       'WILLIAM MILTON MINA ALVARENGA', 'JOSE OSMIN LANDAVERDE MONTANO',\n",
              "       'ROBERTO MAXIMILIANO PONCE PEREZ', 'FRANCISCO JAVIER PONCE REYES',\n",
              "       'VICTOR EDWIN ZELAYA MEJIA', 'RENE OVIDIO MADRIZ MEJIA',\n",
              "       'PEDRO LEVY JONATHAN CALDERON FRANCO',\n",
              "       'OSWALDO ALEXANDER COLORADO AYALA',\n",
              "       'JOSE LUIS HERNANDEZ RODRIGUEZ', 'MARVIN NOEL HERNANDEZ RIVERA',\n",
              "       'LUCIO VLADIMIR CHAVEZ MEMBREÑO',\n",
              "       'BORIS ALEJANDRO GUZMAN CONTRERAS', 'IVAN ALEXANDER ERAZO DERAS',\n",
              "       'IRVIN STANLEY GARCIA VASQUEZ', 'MAURICIO JOSE BARAHONA ABARCA',\n",
              "       'JOSE MARIO NAVARRETE AVILES', 'SALVADOR REYNALDO GIRON CRUZ',\n",
              "       'BRYAN VLADIMIR MARROQUIN HERNANDEZ',\n",
              "       'MOISES APARICIO MELENDEZ ARREVILLAGA',\n",
              "       'SANTOS ANTONIO ALEGRIA MARROQUIN', 'MELKIN DANILO VASQUEZ FLORES',\n",
              "       'JORGE ALBERTO TEOS RIVERA', 'MARIA JOSE MORAN ESCOBAR',\n",
              "       'NELSON RENE ARANA RODRIGUEZ', 'DENNIS EDGARDO LUNA MELARA'],\n",
              "      dtype=object)"
            ]
          },
          "metadata": {},
          "execution_count": 9
        }
      ]
    },
    {
      "cell_type": "code",
      "metadata": {
        "colab": {
          "base_uri": "https://localhost:8080/"
        },
        "id": "KeUThDB3_GCC",
        "outputId": "2bf9f890-4138-4020-b593-c627d9f360d1"
      },
      "source": [
        "df['Qc Name'].unique(),len(df['Qc Name'].unique()) # existen 176 trabajadores que son supervisores"
      ],
      "execution_count": null,
      "outputs": [
        {
          "output_type": "execute_result",
          "data": {
            "text/plain": [
              "(array(['MARIO JOSE RODAS TORRES', 'ALEXIS ANTONIO PONCE PINEDA',\n",
              "        'JOSE ANTONIO CORTEZ RIVAS', 'ULISES ROBERTO LOPEZ PEREZ',\n",
              "        'SERGIO EDUARDO ASCENCIO ALFARO', 'JOSUE MILTON FLORES OSEGUEDA',\n",
              "        'JOSE HUMBERTO MORENO GUERRERO', 'ADALBERTO VLADIMIR LEON',\n",
              "        'DOUGLAS GUILLERMO LOPEZ MENDEZ',\n",
              "        'JONATHAN ENRIQUE GARCIA CANALES', 'FRANKLIN OMAR MARTINEZ FLORES',\n",
              "        'SALVADOR MORAN VARELA', 'ORLANDO ENRIQUE CONTRERAS SINTIGO',\n",
              "        'JORGE ISAAC RAMIREZ GIL', 'FRANCISCO JAVIER SIBRIAN GUTIERREZ',\n",
              "        'MANUEL DE JESUS LARA ALVARADO', 'ENRIQUE ERNESTO SOLIS VASQUEZ',\n",
              "        'WILFRED VASQUEZ CORENA', 'SALVADOR OSMIN GOMEZ SANTOS',\n",
              "        'ROBERTO MAURICIO QUINTANILLA PATIÑO', 'EDWIN ROBERTO FABIAN',\n",
              "        'MARIO ERNESTO MILLA', 'MAURICIO EDGARDO GUARDADO MELGAR',\n",
              "        'RAFAEL ALEJANDRO MURILLO ASCENCIO',\n",
              "        'LUIS RICARDO MARTINEZ HERNANDEZ',\n",
              "        'ROLANDO DE JESUS CARBALLO GUZMAN',\n",
              "        'RICARDO SANTOS ALVARENGA RIVERA', 'MIGUEL EVENOR SISCO LOPEZ',\n",
              "        'GEOVANNY ANTONIO AGUIRRE MENA', 'ELMER ENRIQUE AMAYA AGUILAR',\n",
              "        'JUAN PABLO SERVELLON CORTEZ', 'JUAN MANUEL VENTURA MARROQUIN',\n",
              "        'EVER BLADIMIR MONTIEL PRUDENCIO', 'NELSON JOEL CHINCHILLA ORTIZ',\n",
              "        'DENIS ANTONIO GARCIA ORTIZ', 'WILLIAM OMAR FLORES FRANCO',\n",
              "        'JESUS ANTONIO CHICAS RODRIGUEZ', 'YASIR ALJADHIK CALDERON',\n",
              "        'JOSE MIGUEL GONZALEZ GRANILLO', 'OSCAR RENE JOVEL CARRILLO',\n",
              "        'MARIO EDUARDO BRAN MEZA', 'CARLOS ENRIQUE AVILES RODAS',\n",
              "        'JOSE ANGEL DIAZ DE LA CRUZ', 'ROSARIO GUILBER NOVALES VARGAS',\n",
              "        'JOSE IVAN INTERIANO ESCOBAR', 'NOE EDGARDO MARTINEZ MARTINEZ',\n",
              "        'JOSE MAURICIO RIVAS ARGUETA', 'ERICK RAMON SOLIZ SIBRIAN',\n",
              "        'SAUL ALVARADO POSADA', 'MANUEL ALEJANDRO SANCHEZ RODAS',\n",
              "        'JORGE ALFREDO JACINTO VENTURA', 'NELSON ENRIQUE CARPIO ROMERO',\n",
              "        'ODIR ALBERTO CAÑAS CRUZ', 'JOSUE RODOLFO VENTURA RODRIGUEZ',\n",
              "        'HECTOR ANTONIO SALINAS ROMERO', 'JAIME MAURICIO LOPEZ LOZANO',\n",
              "        'FREDY GUILLERMO GARCIA MIJANGO',\n",
              "        'DAVID ALEJANDRO DOMINGUEZ ANGEL',\n",
              "        'MARCELO EDUARDO RAMIREZ CASTRO', 'JORGE ARTURO FIGUEROA ALVARADO',\n",
              "        'JOSE ROBERTO FLORES ESCOBAR', 'RODOLFO SALVADOR ARCILES NAJARRO',\n",
              "        'FRANCISCO ANTONIO BENAVIDES PINEDA',\n",
              "        'LUIS ALBERTO BARRERA GARCIA', 'MANUEL GIOVANNI MAGAÑA MARTINEZ',\n",
              "        'JOSE MIGUEL ROSALES QUINTEROS', 'WILLIAM OMAR ALVAREZ ALVAREZ',\n",
              "        'JAVIER ALEJANDRO GUILLEN HENRIQUEZ',\n",
              "        'JESUS ORLANDO PEREZ HERNANDEZ', 'JOSE JAIME CASTRO RODRIGUEZ',\n",
              "        'CARLOS ANTONIO ORELLANA VASQUEZ',\n",
              "        'RICARDO MAURICIO PINEDA CORNEJO',\n",
              "        'ENRIQUE GIOVANNI GARCIA QUINTANILLA', 'ELI ANTONIO FIGUEROA CRUZ',\n",
              "        'DOUGLAS ERNESTO POCASANGRE POCASANGRE',\n",
              "        'WILLIAMS ALEXANDER SANCHEZ UMAÑA',\n",
              "        'JOEL ALEXANDER FLORES NAVARRETE', 'YONI DANIEL CRUZ GARCIA',\n",
              "        'JUAN CARLOS CRUZ REYES', 'BELIX AUGUSTO ALEGRIA RAMIREZ',\n",
              "        'MIGUEL ANTONIO CHORRO ZEPEDA', 'KAREN IVETTE VASQUEZ DE PEÑA',\n",
              "        'CARLOS ERNESTO AYALA MOLINA', 'EDUARDO ERNESTO FLORES SERRANO',\n",
              "        'GIOVANNI VLADIMIR PORTILLO MELENDEZ',\n",
              "        'JOSE ALEJANDRO MONTES PASCUAL', 'CARLOS GERSON CARRANZA MENA',\n",
              "        'NESTOR ADALBERTO FLORES', 'KENNDALL ARMANDO ELVIRA MARTINEZ',\n",
              "        'MARIO ADONAY MENDEZ HERNANDEZ', 'ERNESTO JOSE GARCIA ALVARENGA',\n",
              "        'GEOVANNI MARXOXEL RODRIGUEZ AMAYA',\n",
              "        'KEVIN ALBERTO CALPAÑO FUENTES', 'JOSE RAUL MENDEZ HERNANDEZ',\n",
              "        'JOSE ALFREDO RIGOBERTO FLORES SILIEZAR',\n",
              "        'ADOLFO ALBERTO CASTRO CHACON', 'DENYS ALEXANDER TORRES RENDEROS',\n",
              "        'EDWIN GEOVANNY DIAZ CONSTANZA', 'JOSE ADOLFO MELENDEZ CRESPIN',\n",
              "        'ANDY MILTON HERNANDEZ MARTINEZ', 'ARIEL MARIA POZAS FIGUEROA',\n",
              "        'MANUEL ALBERTO ALVAREZ RODAS', 'ELIO WILSON NAVARRETE GUARDADO',\n",
              "        'MIGUEL AMAYA SERRANO', 'EMERSON ARIEL CASTRO MEJIA',\n",
              "        'MARIO JESUS CRUZ GARCIA', 'JOHN JOSSUE STANLEY VANEGAS CABALLERO',\n",
              "        'JOSUE ALEXANDER GUZMAN CAMPOS', 'ROBERTO CARLOS MELARA ROMERO',\n",
              "        'TEOFILO EDILBERTO JOAQUIN PINEDA CUELLAR',\n",
              "        'ESAU ALEXANDER PORTILLO SANCHEZ',\n",
              "        'EDWIN ARMANDO GUARDADO SERVELLON', 'JULIO CESAR ALBERTO MEJIA',\n",
              "        'CESAR FERNANDO BELTRAN CASTILLO',\n",
              "        'GUILLERMO DANILO ELIZONDO GOMEZ',\n",
              "        'ROMULO ALBERTO EFIGENIO HERNANDEZ',\n",
              "        'ULISES ALEXANDER OSORIO HENRIQUEZ',\n",
              "        'SAMUEL EDUARDO ANGULO LANDAVERDE', 'RUBEN ERNESTO ARGUETA ABREGO',\n",
              "        'JULIO EZEQUIEL PORTILLO CAMPOS', 'EFRAIN ALFREDO GOMEZ JULE',\n",
              "        'HERMANN ALEXIS CARDONA QUIJANO', 'ERNESTO IVAN CRUZ PEREZ',\n",
              "        'DAVID ROBERTO MARROQUIN FLORES',\n",
              "        'ELIZANDRO EDENILSON PEREZ RAMIREZ', 'MARIO ELMER PALENCIA',\n",
              "        'ANGEL JONATHAN SEGURA HERNANDEZ', 'DAVID ELISEO AREVALO LOPEZ',\n",
              "        'EDIMIR ANTONIO LOPEZ SANCHEZ', 'VALENTIN OSORIO ALVAREZ',\n",
              "        'MARTIN EDUARDO FLORES BORJA', 'CARLOS ANTONIO CHACON HERNANDEZ',\n",
              "        'FRANKLIN ALEXANDER QUINTANILLA MEJIA', 'ERICK ANTONIO MEJIA',\n",
              "        'HECTOR EDUARDO BARRERA PADILLA',\n",
              "        'ALVARO FRANKLIN AGUILLON BERMUDEZ',\n",
              "        'EDWIN RICARDO GARCIA URQUILLA', 'JOSE EFRAIN FUNES BELLOSO',\n",
              "        'CARLOS ADALBERTO FIGUEROA MEJIA',\n",
              "        'LISANDRO MAURICIO TURCIOS CEDILLOS',\n",
              "        'GUSTAVO ADOLFO LOPEZ FRANCO', 'TOMAS ERNESTO ALFARO RIVERA',\n",
              "        'ALEJANDRO MANUEL CRUZ AGUILAR', 'SAUL ELIEZER MENDEZ QUIJANO',\n",
              "        'WILLIAMS FRANCISCO GONZALEZ BARRERA',\n",
              "        'ISAI EFRAIN GONZALEZ RAMOS', 'ALISSON GABRIELA MARTINEZ LOPEZ',\n",
              "        'MORIAN EDUARDO ESTACUY MARTINEZ', 'HERNAN NIETO NIETO',\n",
              "        'SAMUEL JOSE ALVAREZ RIVERA', 'JOSE CARLOS RIVAS MORALES',\n",
              "        'WILLIAM MILTON MINA ALVARENGA', 'JOSE OSMIN LANDAVERDE MONTANO',\n",
              "        'ROBERTO MAXIMILIANO PONCE PEREZ', 'FRANCISCO JAVIER PONCE REYES',\n",
              "        'VICTOR EDWIN ZELAYA MEJIA', 'RENE OVIDIO MADRIZ MEJIA',\n",
              "        'PEDRO LEVY JONATHAN CALDERON FRANCO',\n",
              "        'OSWALDO ALEXANDER COLORADO AYALA',\n",
              "        'JOSE LUIS HERNANDEZ RODRIGUEZ', 'MARVIN NOEL HERNANDEZ RIVERA',\n",
              "        'LUCIO VLADIMIR CHAVEZ MEMBREÑO',\n",
              "        'BORIS ALEJANDRO GUZMAN CONTRERAS', 'IVAN ALEXANDER ERAZO DERAS',\n",
              "        'IRVIN STANLEY GARCIA VASQUEZ', 'MAURICIO JOSE BARAHONA ABARCA',\n",
              "        'JOSE MARIO NAVARRETE AVILES', 'SALVADOR REYNALDO GIRON CRUZ',\n",
              "        'BRYAN VLADIMIR MARROQUIN HERNANDEZ',\n",
              "        'MOISES APARICIO MELENDEZ ARREVILLAGA',\n",
              "        'SANTOS ANTONIO ALEGRIA MARROQUIN', 'MELKIN DANILO VASQUEZ FLORES',\n",
              "        'JORGE ALBERTO TEOS RIVERA', 'MARIA JOSE MORAN ESCOBAR',\n",
              "        'NELSON RENE ARANA RODRIGUEZ', 'DENNIS EDGARDO LUNA MELARA'],\n",
              "       dtype=object), 176)"
            ]
          },
          "metadata": {},
          "execution_count": 10
        }
      ]
    },
    {
      "cell_type": "code",
      "metadata": {
        "colab": {
          "base_uri": "https://localhost:8080/"
        },
        "id": "0akj-_hv_faJ",
        "outputId": "ccdbefe4-40cb-470e-fb0e-95879dc4e4f9"
      },
      "source": [
        "df.columns"
      ],
      "execution_count": null,
      "outputs": [
        {
          "output_type": "execute_result",
          "data": {
            "text/plain": [
              "Index(['Hour of day', 'Qc Code', 'Qc Name', 'Employee Code', 'Employee Name',\n",
              "       'QC Log On Time', 'QC Log Off Time', 'Hangar', 'Aircraft',\n",
              "       'Taskcard Number', 'R / NR', 'TC Code', 'Request Type',\n",
              "       'Request Status', 'Wait Time', 'AVG Insp Time', 'Time_Insp_finalizado',\n",
              "       'Fecha', 'Time_Insp_finalizado_minutos', 'Time_espera_minutos',\n",
              "       'Time_Total_minutos'],\n",
              "      dtype='object')"
            ]
          },
          "metadata": {},
          "execution_count": 11
        }
      ]
    },
    {
      "cell_type": "code",
      "metadata": {
        "id": "WW0NTICBGNRm"
      },
      "source": [
        "df1 = df.rename(columns={'Hour of day': 'Hour_of_day',\n",
        "        'Qc Code':'Qc_Code',\n",
        "        'Employee Code':'Employee_Code',\n",
        "        'Employee Name':'Employee_Name',\n",
        "        'QC Log On Time':'QC_Log_On_Time',\n",
        "        'QC Log Off Time':'QC_Log_Off_Time',\n",
        "       'Taskcard Number':'Taskcard_Number',\n",
        "        'R / NR':'R/NR',\n",
        "       'TC Code':'TC_Code',\n",
        "       'Request Type':'Request_Type',\n",
        "       'Request Status':'Request_Status',\n",
        "        'Wait Time':'Wait_Time',\n",
        "        'AVG Insp Time':'AVG_Insp_Time'})"
      ],
      "execution_count": null,
      "outputs": []
    },
    {
      "cell_type": "code",
      "metadata": {
        "colab": {
          "base_uri": "https://localhost:8080/"
        },
        "id": "1BeqzvOgIRRd",
        "outputId": "e2612f56-e2a4-48c2-a045-451e4259f6d6"
      },
      "source": [
        "df1.columns"
      ],
      "execution_count": null,
      "outputs": [
        {
          "output_type": "execute_result",
          "data": {
            "text/plain": [
              "Index(['Hour_of_day', 'Qc_Code', 'Qc Name', 'Employee_Code', 'Employee_Name',\n",
              "       'QC_Log_On_Time', 'QC_Log_Off_Time', 'Hangar', 'Aircraft',\n",
              "       'Taskcard_Number', 'R/NR', 'TC_Code', 'Request_Type', 'Request_Status',\n",
              "       'Wait_Time', 'AVG_Insp_Time', 'Time_Insp_finalizado', 'Fecha',\n",
              "       'Time_Insp_finalizado_minutos', 'Time_espera_minutos',\n",
              "       'Time_Total_minutos'],\n",
              "      dtype='object')"
            ]
          },
          "metadata": {},
          "execution_count": 13
        }
      ]
    },
    {
      "cell_type": "code",
      "metadata": {
        "colab": {
          "base_uri": "https://localhost:8080/"
        },
        "id": "xZ8GlGtX_g7A",
        "outputId": "f4f06ded-a06d-4ebf-bede-69550e3c13cf"
      },
      "source": [
        "df.dtypes"
      ],
      "execution_count": null,
      "outputs": [
        {
          "output_type": "execute_result",
          "data": {
            "text/plain": [
              "Hour of day                              int64\n",
              "Qc Code                                 object\n",
              "Qc Name                                 object\n",
              "Employee Code                           object\n",
              "Employee Name                           object\n",
              "QC Log On Time                  datetime64[ns]\n",
              "QC Log Off Time                 datetime64[ns]\n",
              "Hangar                                  object\n",
              "Aircraft                                object\n",
              "Taskcard Number                         object\n",
              "R / NR                                  object\n",
              "TC Code                                 object\n",
              "Request Type                            object\n",
              "Request Status                          object\n",
              "Wait Time                               object\n",
              "AVG Insp Time                           object\n",
              "Time_Insp_finalizado                    object\n",
              "Fecha                           datetime64[ns]\n",
              "Time_Insp_finalizado_minutos           float64\n",
              "Time_espera_minutos                    float64\n",
              "Time_Total_minutos                     float64\n",
              "dtype: object"
            ]
          },
          "metadata": {},
          "execution_count": 14
        }
      ]
    },
    {
      "cell_type": "code",
      "metadata": {
        "colab": {
          "base_uri": "https://localhost:8080/"
        },
        "id": "aCEZGfCZ_jkL",
        "outputId": "c0c121fe-d2dd-4b3e-9bfd-4278ae3d6112"
      },
      "source": [
        "df['Employee Name'].value_counts()"
      ],
      "execution_count": null,
      "outputs": [
        {
          "output_type": "execute_result",
          "data": {
            "text/plain": [
              "ANDREA IVETTE LOPEZ GUARDADO                968\n",
              "KEVIN ALFREDO FIGUEROA RIVERA               827\n",
              "FATIMA GABRIELA MEJIA PEREZ                 816\n",
              "DOLORES XENIA YAMILETH PARADA DE ESCOBAR    793\n",
              "LORENA LISSETH LOPEZ DE CARDENAS            724\n",
              "                                           ... \n",
              "ELMER OMAR CORTEZ MELENDEZ                    1\n",
              "BRYAN IVAN GARCIA MONTES                      1\n",
              "CARLOS EDUARDO MONTALVO AGUILA                1\n",
              "HERIBERTO HERNANDEZ BURGOS                    1\n",
              "CRISTIAN ALEXANDER CARRERA GONZALEZ           1\n",
              "Name: Employee Name, Length: 2383, dtype: int64"
            ]
          },
          "metadata": {},
          "execution_count": 15
        }
      ]
    },
    {
      "cell_type": "code",
      "metadata": {
        "colab": {
          "base_uri": "https://localhost:8080/"
        },
        "id": "HKISdW4W8gyr",
        "outputId": "c50dd776-6e85-458e-a4eb-6d432c4d4436"
      },
      "source": [
        "df['Employee Name'].nunique() #existe 2383 mecanicos supervisados por 176 controladores de calidad"
      ],
      "execution_count": null,
      "outputs": [
        {
          "output_type": "execute_result",
          "data": {
            "text/plain": [
              "2383"
            ]
          },
          "metadata": {},
          "execution_count": 16
        }
      ]
    },
    {
      "cell_type": "code",
      "metadata": {
        "id": "1yBtSaiwAOFQ"
      },
      "source": [
        "df1.Fecha=pd.to_datetime(df1.Fecha)"
      ],
      "execution_count": null,
      "outputs": []
    },
    {
      "cell_type": "code",
      "metadata": {
        "id": "8bu0M-Uq8g5i"
      },
      "source": [
        "2383/176 #aprox 14 mecanicos por un supervisor"
      ],
      "execution_count": null,
      "outputs": []
    },
    {
      "cell_type": "code",
      "metadata": {
        "colab": {
          "base_uri": "https://localhost:8080/",
          "height": 315
        },
        "id": "ur3Mc5iFFBlT",
        "outputId": "d8b447e2-752d-49fb-92aa-2bc1be674864"
      },
      "source": [
        "df1.head(3)"
      ],
      "execution_count": null,
      "outputs": [
        {
          "output_type": "execute_result",
          "data": {
            "text/html": [
              "<div>\n",
              "<style scoped>\n",
              "    .dataframe tbody tr th:only-of-type {\n",
              "        vertical-align: middle;\n",
              "    }\n",
              "\n",
              "    .dataframe tbody tr th {\n",
              "        vertical-align: top;\n",
              "    }\n",
              "\n",
              "    .dataframe thead th {\n",
              "        text-align: right;\n",
              "    }\n",
              "</style>\n",
              "<table border=\"1\" class=\"dataframe\">\n",
              "  <thead>\n",
              "    <tr style=\"text-align: right;\">\n",
              "      <th></th>\n",
              "      <th>Hour_of_day</th>\n",
              "      <th>Qc_Code</th>\n",
              "      <th>Qc Name</th>\n",
              "      <th>Employee_Code</th>\n",
              "      <th>Employee_Name</th>\n",
              "      <th>QC_Log_On_Time</th>\n",
              "      <th>QC_Log_Off_Time</th>\n",
              "      <th>Hangar</th>\n",
              "      <th>Aircraft</th>\n",
              "      <th>Taskcard_Number</th>\n",
              "      <th>R/NR</th>\n",
              "      <th>TC_Code</th>\n",
              "      <th>Request_Type</th>\n",
              "      <th>Request_Status</th>\n",
              "      <th>Wait_Time</th>\n",
              "      <th>AVG_Insp_Time</th>\n",
              "      <th>Time_Insp_finalizado</th>\n",
              "      <th>Fecha</th>\n",
              "      <th>Time_Insp_finalizado_minutos</th>\n",
              "      <th>Time_espera_minutos</th>\n",
              "      <th>Time_Total_minutos</th>\n",
              "    </tr>\n",
              "  </thead>\n",
              "  <tbody>\n",
              "    <tr>\n",
              "      <th>0</th>\n",
              "      <td>7</td>\n",
              "      <td>8604810</td>\n",
              "      <td>MARIO JOSE RODAS TORRES</td>\n",
              "      <td>8603819</td>\n",
              "      <td>FATIMA PATRICIA CHAVEZ VILLAGRAN</td>\n",
              "      <td>2020-05-02 07:37:32</td>\n",
              "      <td>2020-05-02 08:03:54</td>\n",
              "      <td>H1</td>\n",
              "      <td>N321R1</td>\n",
              "      <td>2020-91739</td>\n",
              "      <td>N</td>\n",
              "      <td>PRD</td>\n",
              "      <td>NC</td>\n",
              "      <td>CLOSED</td>\n",
              "      <td>00:43:48</td>\n",
              "      <td>00:26:22</td>\n",
              "      <td>00:26:22</td>\n",
              "      <td>2020-05-02 07:37:32</td>\n",
              "      <td>26.366667</td>\n",
              "      <td>43.800000</td>\n",
              "      <td>70.166667</td>\n",
              "    </tr>\n",
              "    <tr>\n",
              "      <th>1</th>\n",
              "      <td>7</td>\n",
              "      <td>8606312</td>\n",
              "      <td>ALEXIS ANTONIO PONCE PINEDA</td>\n",
              "      <td>8604812</td>\n",
              "      <td>LUIS ALBERTO PEREZ ROBLES</td>\n",
              "      <td>2020-05-02 07:41:44</td>\n",
              "      <td>2020-05-02 07:50:18</td>\n",
              "      <td>H6</td>\n",
              "      <td>N627E1</td>\n",
              "      <td>2020-171783</td>\n",
              "      <td>N</td>\n",
              "      <td>PRD</td>\n",
              "      <td>CR</td>\n",
              "      <td>CLOSED</td>\n",
              "      <td>00:01:08</td>\n",
              "      <td>00:08:34</td>\n",
              "      <td>00:08:34</td>\n",
              "      <td>2020-05-02 07:41:44</td>\n",
              "      <td>8.566667</td>\n",
              "      <td>1.133333</td>\n",
              "      <td>9.700000</td>\n",
              "    </tr>\n",
              "    <tr>\n",
              "      <th>2</th>\n",
              "      <td>7</td>\n",
              "      <td>8602999</td>\n",
              "      <td>JOSE ANTONIO CORTEZ RIVAS</td>\n",
              "      <td>8603309</td>\n",
              "      <td>ALVARO ANTONIO MATA JOAQUIN</td>\n",
              "      <td>2020-05-02 07:46:13</td>\n",
              "      <td>2020-05-02 08:01:12</td>\n",
              "      <td>H2|H3</td>\n",
              "      <td>N473S1</td>\n",
              "      <td>2020-142741</td>\n",
              "      <td>R</td>\n",
              "      <td>PRD</td>\n",
              "      <td>CR</td>\n",
              "      <td>CLOSED</td>\n",
              "      <td>00:02:14</td>\n",
              "      <td>00:14:59</td>\n",
              "      <td>00:14:59</td>\n",
              "      <td>2020-05-02 07:46:13</td>\n",
              "      <td>14.983333</td>\n",
              "      <td>2.233333</td>\n",
              "      <td>17.216667</td>\n",
              "    </tr>\n",
              "  </tbody>\n",
              "</table>\n",
              "</div>"
            ],
            "text/plain": [
              "   Hour_of_day  Qc_Code  ... Time_espera_minutos Time_Total_minutos\n",
              "0            7  8604810  ...           43.800000          70.166667\n",
              "1            7  8606312  ...            1.133333           9.700000\n",
              "2            7  8602999  ...            2.233333          17.216667\n",
              "\n",
              "[3 rows x 21 columns]"
            ]
          },
          "metadata": {},
          "execution_count": 18
        }
      ]
    },
    {
      "cell_type": "code",
      "metadata": {
        "id": "5g_jDPQA8g85"
      },
      "source": [
        "from datetime import datetime"
      ],
      "execution_count": null,
      "outputs": []
    },
    {
      "cell_type": "code",
      "metadata": {
        "id": "R-vlxS6tWiZ7"
      },
      "source": [
        "#Añadiendo año\n",
        "df1['Year'] = df1['Fecha'].dt.year\n",
        "#Añadiendo Mes\n",
        "df1['Month'] = df1['Fecha'].dt.month\n",
        "#añadiendo day\n",
        "df1['Day'] = df1['Fecha'].dt.day\n",
        "\n",
        "# eliminando columnas de prueba\n",
        "#df1.drop(['year', 'dateInt'], axis=1)"
      ],
      "execution_count": null,
      "outputs": []
    },
    {
      "cell_type": "code",
      "metadata": {
        "id": "dINqi1yD8hAl"
      },
      "source": [
        "#concatenamos la variable fecha para formar nuestra serie de tiempo #yelsin\n",
        "df1['fecha']=df1.Year.astype(str) + str('-') + df1.Month.astype(str) + str('-') + df1.Day.astype(str)"
      ],
      "execution_count": null,
      "outputs": []
    },
    {
      "cell_type": "code",
      "metadata": {
        "id": "v9nMC9ICqWIG"
      },
      "source": [
        "df1.fecha=pd.to_datetime(df1.fecha)"
      ],
      "execution_count": null,
      "outputs": []
    },
    {
      "cell_type": "code",
      "metadata": {
        "colab": {
          "base_uri": "https://localhost:8080/"
        },
        "id": "1tJUfh_GVTza",
        "outputId": "cff38a7a-ff02-429c-b295-4747d94367b5"
      },
      "source": [
        "df1.dtypes"
      ],
      "execution_count": null,
      "outputs": [
        {
          "output_type": "execute_result",
          "data": {
            "text/plain": [
              "Hour_of_day                              int64\n",
              "Qc_Code                                 object\n",
              "Qc Name                                 object\n",
              "Employee_Code                           object\n",
              "Employee_Name                           object\n",
              "QC_Log_On_Time                  datetime64[ns]\n",
              "QC_Log_Off_Time                 datetime64[ns]\n",
              "Hangar                                  object\n",
              "Aircraft                                object\n",
              "Taskcard_Number                         object\n",
              "R/NR                                    object\n",
              "TC_Code                                 object\n",
              "Request_Type                            object\n",
              "Request_Status                          object\n",
              "Wait_Time                               object\n",
              "AVG_Insp_Time                           object\n",
              "Time_Insp_finalizado                    object\n",
              "Fecha                           datetime64[ns]\n",
              "Time_Insp_finalizado_minutos           float64\n",
              "Time_espera_minutos                    float64\n",
              "Time_Total_minutos                     float64\n",
              "Year                                     int64\n",
              "Month                                    int64\n",
              "Day                                      int64\n",
              "fecha                           datetime64[ns]\n",
              "dtype: object"
            ]
          },
          "metadata": {},
          "execution_count": 23
        }
      ]
    },
    {
      "cell_type": "code",
      "metadata": {
        "colab": {
          "base_uri": "https://localhost:8080/",
          "height": 315
        },
        "id": "nGFRLxHFpxc0",
        "outputId": "9e7280bb-0b92-42fa-cdda-13bf34f91784"
      },
      "source": [
        "df1.head(3)"
      ],
      "execution_count": null,
      "outputs": [
        {
          "output_type": "execute_result",
          "data": {
            "text/html": [
              "<div>\n",
              "<style scoped>\n",
              "    .dataframe tbody tr th:only-of-type {\n",
              "        vertical-align: middle;\n",
              "    }\n",
              "\n",
              "    .dataframe tbody tr th {\n",
              "        vertical-align: top;\n",
              "    }\n",
              "\n",
              "    .dataframe thead th {\n",
              "        text-align: right;\n",
              "    }\n",
              "</style>\n",
              "<table border=\"1\" class=\"dataframe\">\n",
              "  <thead>\n",
              "    <tr style=\"text-align: right;\">\n",
              "      <th></th>\n",
              "      <th>Hour_of_day</th>\n",
              "      <th>Qc_Code</th>\n",
              "      <th>Qc Name</th>\n",
              "      <th>Employee_Code</th>\n",
              "      <th>Employee_Name</th>\n",
              "      <th>QC_Log_On_Time</th>\n",
              "      <th>QC_Log_Off_Time</th>\n",
              "      <th>Hangar</th>\n",
              "      <th>Aircraft</th>\n",
              "      <th>Taskcard_Number</th>\n",
              "      <th>R/NR</th>\n",
              "      <th>TC_Code</th>\n",
              "      <th>Request_Type</th>\n",
              "      <th>Request_Status</th>\n",
              "      <th>Wait_Time</th>\n",
              "      <th>AVG_Insp_Time</th>\n",
              "      <th>Time_Insp_finalizado</th>\n",
              "      <th>Fecha</th>\n",
              "      <th>Time_Insp_finalizado_minutos</th>\n",
              "      <th>Time_espera_minutos</th>\n",
              "      <th>Time_Total_minutos</th>\n",
              "      <th>Year</th>\n",
              "      <th>Month</th>\n",
              "      <th>Day</th>\n",
              "      <th>fecha</th>\n",
              "    </tr>\n",
              "  </thead>\n",
              "  <tbody>\n",
              "    <tr>\n",
              "      <th>0</th>\n",
              "      <td>7</td>\n",
              "      <td>8604810</td>\n",
              "      <td>MARIO JOSE RODAS TORRES</td>\n",
              "      <td>8603819</td>\n",
              "      <td>FATIMA PATRICIA CHAVEZ VILLAGRAN</td>\n",
              "      <td>2020-05-02 07:37:32</td>\n",
              "      <td>2020-05-02 08:03:54</td>\n",
              "      <td>H1</td>\n",
              "      <td>N321R1</td>\n",
              "      <td>2020-91739</td>\n",
              "      <td>N</td>\n",
              "      <td>PRD</td>\n",
              "      <td>NC</td>\n",
              "      <td>CLOSED</td>\n",
              "      <td>00:43:48</td>\n",
              "      <td>00:26:22</td>\n",
              "      <td>00:26:22</td>\n",
              "      <td>2020-05-02 07:37:32</td>\n",
              "      <td>26.366667</td>\n",
              "      <td>43.800000</td>\n",
              "      <td>70.166667</td>\n",
              "      <td>2020</td>\n",
              "      <td>5</td>\n",
              "      <td>2</td>\n",
              "      <td>2020-05-02</td>\n",
              "    </tr>\n",
              "    <tr>\n",
              "      <th>1</th>\n",
              "      <td>7</td>\n",
              "      <td>8606312</td>\n",
              "      <td>ALEXIS ANTONIO PONCE PINEDA</td>\n",
              "      <td>8604812</td>\n",
              "      <td>LUIS ALBERTO PEREZ ROBLES</td>\n",
              "      <td>2020-05-02 07:41:44</td>\n",
              "      <td>2020-05-02 07:50:18</td>\n",
              "      <td>H6</td>\n",
              "      <td>N627E1</td>\n",
              "      <td>2020-171783</td>\n",
              "      <td>N</td>\n",
              "      <td>PRD</td>\n",
              "      <td>CR</td>\n",
              "      <td>CLOSED</td>\n",
              "      <td>00:01:08</td>\n",
              "      <td>00:08:34</td>\n",
              "      <td>00:08:34</td>\n",
              "      <td>2020-05-02 07:41:44</td>\n",
              "      <td>8.566667</td>\n",
              "      <td>1.133333</td>\n",
              "      <td>9.700000</td>\n",
              "      <td>2020</td>\n",
              "      <td>5</td>\n",
              "      <td>2</td>\n",
              "      <td>2020-05-02</td>\n",
              "    </tr>\n",
              "    <tr>\n",
              "      <th>2</th>\n",
              "      <td>7</td>\n",
              "      <td>8602999</td>\n",
              "      <td>JOSE ANTONIO CORTEZ RIVAS</td>\n",
              "      <td>8603309</td>\n",
              "      <td>ALVARO ANTONIO MATA JOAQUIN</td>\n",
              "      <td>2020-05-02 07:46:13</td>\n",
              "      <td>2020-05-02 08:01:12</td>\n",
              "      <td>H2|H3</td>\n",
              "      <td>N473S1</td>\n",
              "      <td>2020-142741</td>\n",
              "      <td>R</td>\n",
              "      <td>PRD</td>\n",
              "      <td>CR</td>\n",
              "      <td>CLOSED</td>\n",
              "      <td>00:02:14</td>\n",
              "      <td>00:14:59</td>\n",
              "      <td>00:14:59</td>\n",
              "      <td>2020-05-02 07:46:13</td>\n",
              "      <td>14.983333</td>\n",
              "      <td>2.233333</td>\n",
              "      <td>17.216667</td>\n",
              "      <td>2020</td>\n",
              "      <td>5</td>\n",
              "      <td>2</td>\n",
              "      <td>2020-05-02</td>\n",
              "    </tr>\n",
              "  </tbody>\n",
              "</table>\n",
              "</div>"
            ],
            "text/plain": [
              "   Hour_of_day  Qc_Code                      Qc Name  ... Month Day      fecha\n",
              "0            7  8604810      MARIO JOSE RODAS TORRES  ...     5   2 2020-05-02\n",
              "1            7  8606312  ALEXIS ANTONIO PONCE PINEDA  ...     5   2 2020-05-02\n",
              "2            7  8602999    JOSE ANTONIO CORTEZ RIVAS  ...     5   2 2020-05-02\n",
              "\n",
              "[3 rows x 25 columns]"
            ]
          },
          "metadata": {},
          "execution_count": 24
        }
      ]
    },
    {
      "cell_type": "code",
      "metadata": {
        "colab": {
          "base_uri": "https://localhost:8080/"
        },
        "id": "ucxClzXZAIOx",
        "outputId": "61d8a6a3-3e86-4171-f642-1a68c98cdbc1"
      },
      "source": [
        "df1.dtypes"
      ],
      "execution_count": null,
      "outputs": [
        {
          "output_type": "execute_result",
          "data": {
            "text/plain": [
              "Hour_of_day                              int64\n",
              "Qc_Code                                 object\n",
              "Qc Name                                 object\n",
              "Employee_Code                           object\n",
              "Employee_Name                           object\n",
              "QC_Log_On_Time                  datetime64[ns]\n",
              "QC_Log_Off_Time                 datetime64[ns]\n",
              "Hangar                                  object\n",
              "Aircraft                                object\n",
              "Taskcard_Number                         object\n",
              "R/NR                                    object\n",
              "TC_Code                                 object\n",
              "Request_Type                            object\n",
              "Request_Status                          object\n",
              "Wait_Time                               object\n",
              "AVG_Insp_Time                           object\n",
              "Time_Insp_finalizado                    object\n",
              "Fecha                           datetime64[ns]\n",
              "Time_Insp_finalizado_minutos           float64\n",
              "Time_espera_minutos                    float64\n",
              "Time_Total_minutos                     float64\n",
              "Year                                     int64\n",
              "Month                                    int64\n",
              "Day                                      int64\n",
              "fecha                           datetime64[ns]\n",
              "dtype: object"
            ]
          },
          "metadata": {},
          "execution_count": 25
        }
      ]
    },
    {
      "cell_type": "code",
      "metadata": {
        "colab": {
          "base_uri": "https://localhost:8080/"
        },
        "id": "LhmKUSqlAYJQ",
        "outputId": "03f6c299-e991-4f75-e61a-334b45ad5320"
      },
      "source": [
        "df.columns"
      ],
      "execution_count": null,
      "outputs": [
        {
          "output_type": "execute_result",
          "data": {
            "text/plain": [
              "Index(['Hour of day', 'Qc Code', 'Qc Name', 'Employee Code', 'Employee Name',\n",
              "       'QC Log On Time', 'QC Log Off Time', 'Hangar', 'Aircraft',\n",
              "       'Taskcard Number', 'R / NR', 'TC Code', 'Request Type',\n",
              "       'Request Status', 'Wait Time', 'AVG Insp Time', 'Time_Insp_finalizado',\n",
              "       'Fecha', 'Time_Insp_finalizado_minutos', 'Time_espera_minutos',\n",
              "       'Time_Total_minutos'],\n",
              "      dtype='object')"
            ]
          },
          "metadata": {},
          "execution_count": 26
        }
      ]
    },
    {
      "cell_type": "code",
      "metadata": {
        "colab": {
          "base_uri": "https://localhost:8080/",
          "height": 267
        },
        "id": "8hq92jO4AZ5D",
        "outputId": "af9b05d2-afa5-4329-c76d-093ea4758943"
      },
      "source": [
        "df.head(2)"
      ],
      "execution_count": null,
      "outputs": [
        {
          "output_type": "execute_result",
          "data": {
            "text/html": [
              "<div>\n",
              "<style scoped>\n",
              "    .dataframe tbody tr th:only-of-type {\n",
              "        vertical-align: middle;\n",
              "    }\n",
              "\n",
              "    .dataframe tbody tr th {\n",
              "        vertical-align: top;\n",
              "    }\n",
              "\n",
              "    .dataframe thead th {\n",
              "        text-align: right;\n",
              "    }\n",
              "</style>\n",
              "<table border=\"1\" class=\"dataframe\">\n",
              "  <thead>\n",
              "    <tr style=\"text-align: right;\">\n",
              "      <th></th>\n",
              "      <th>Hour of day</th>\n",
              "      <th>Qc Code</th>\n",
              "      <th>Qc Name</th>\n",
              "      <th>Employee Code</th>\n",
              "      <th>Employee Name</th>\n",
              "      <th>QC Log On Time</th>\n",
              "      <th>QC Log Off Time</th>\n",
              "      <th>Hangar</th>\n",
              "      <th>Aircraft</th>\n",
              "      <th>Taskcard Number</th>\n",
              "      <th>R / NR</th>\n",
              "      <th>TC Code</th>\n",
              "      <th>Request Type</th>\n",
              "      <th>Request Status</th>\n",
              "      <th>Wait Time</th>\n",
              "      <th>AVG Insp Time</th>\n",
              "      <th>Time_Insp_finalizado</th>\n",
              "      <th>Fecha</th>\n",
              "      <th>Time_Insp_finalizado_minutos</th>\n",
              "      <th>Time_espera_minutos</th>\n",
              "      <th>Time_Total_minutos</th>\n",
              "    </tr>\n",
              "  </thead>\n",
              "  <tbody>\n",
              "    <tr>\n",
              "      <th>0</th>\n",
              "      <td>7</td>\n",
              "      <td>8604810</td>\n",
              "      <td>MARIO JOSE RODAS TORRES</td>\n",
              "      <td>8603819</td>\n",
              "      <td>FATIMA PATRICIA CHAVEZ VILLAGRAN</td>\n",
              "      <td>2020-05-02 07:37:32</td>\n",
              "      <td>2020-05-02 08:03:54</td>\n",
              "      <td>H1</td>\n",
              "      <td>N321R1</td>\n",
              "      <td>2020-91739</td>\n",
              "      <td>N</td>\n",
              "      <td>PRD</td>\n",
              "      <td>NC</td>\n",
              "      <td>CLOSED</td>\n",
              "      <td>00:43:48</td>\n",
              "      <td>00:26:22</td>\n",
              "      <td>00:26:22</td>\n",
              "      <td>2020-05-02 07:37:32</td>\n",
              "      <td>26.366667</td>\n",
              "      <td>43.800000</td>\n",
              "      <td>70.166667</td>\n",
              "    </tr>\n",
              "    <tr>\n",
              "      <th>1</th>\n",
              "      <td>7</td>\n",
              "      <td>8606312</td>\n",
              "      <td>ALEXIS ANTONIO PONCE PINEDA</td>\n",
              "      <td>8604812</td>\n",
              "      <td>LUIS ALBERTO PEREZ ROBLES</td>\n",
              "      <td>2020-05-02 07:41:44</td>\n",
              "      <td>2020-05-02 07:50:18</td>\n",
              "      <td>H6</td>\n",
              "      <td>N627E1</td>\n",
              "      <td>2020-171783</td>\n",
              "      <td>N</td>\n",
              "      <td>PRD</td>\n",
              "      <td>CR</td>\n",
              "      <td>CLOSED</td>\n",
              "      <td>00:01:08</td>\n",
              "      <td>00:08:34</td>\n",
              "      <td>00:08:34</td>\n",
              "      <td>2020-05-02 07:41:44</td>\n",
              "      <td>8.566667</td>\n",
              "      <td>1.133333</td>\n",
              "      <td>9.700000</td>\n",
              "    </tr>\n",
              "  </tbody>\n",
              "</table>\n",
              "</div>"
            ],
            "text/plain": [
              "   Hour of day  Qc Code  ... Time_espera_minutos Time_Total_minutos\n",
              "0            7  8604810  ...           43.800000          70.166667\n",
              "1            7  8606312  ...            1.133333           9.700000\n",
              "\n",
              "[2 rows x 21 columns]"
            ]
          },
          "metadata": {},
          "execution_count": 27
        }
      ]
    },
    {
      "cell_type": "code",
      "metadata": {
        "id": "83LkOMS0rZ-D"
      },
      "source": [
        "df2=df1[['fecha','Time_Insp_finalizado_minutos','Year','Month','Day']]"
      ],
      "execution_count": null,
      "outputs": []
    },
    {
      "cell_type": "code",
      "metadata": {
        "colab": {
          "base_uri": "https://localhost:8080/"
        },
        "id": "mXmGXv81mYl9",
        "outputId": "4dff67ce-1deb-4229-98f1-435dd1ab8d63"
      },
      "source": [
        "df2.dtypes"
      ],
      "execution_count": null,
      "outputs": [
        {
          "output_type": "execute_result",
          "data": {
            "text/plain": [
              "fecha                           datetime64[ns]\n",
              "Time_Insp_finalizado_minutos           float64\n",
              "Year                                     int64\n",
              "Month                                    int64\n",
              "Day                                      int64\n",
              "dtype: object"
            ]
          },
          "metadata": {},
          "execution_count": 29
        }
      ]
    },
    {
      "cell_type": "code",
      "metadata": {
        "colab": {
          "base_uri": "https://localhost:8080/",
          "height": 1000
        },
        "id": "10pKW9yjA3Ei",
        "outputId": "485b8d67-df13-46da-9796-554de9066556"
      },
      "source": [
        "fig, axes=plt.subplots(3,1,figsize=(20,22),dpi=80)\n",
        "sns.boxplot(x='Year',y= 'Time_Insp_finalizado_minutos',data=df2,ax=axes[0])\n",
        "sns.boxplot(x='Month',y= 'Time_Insp_finalizado_minutos',data=df2,ax=axes[1])\n",
        "sns.boxplot(x='Day',y= 'Time_Insp_finalizado_minutos',data=df2,ax=axes[2])"
      ],
      "execution_count": null,
      "outputs": [
        {
          "output_type": "execute_result",
          "data": {
            "text/plain": [
              "<matplotlib.axes._subplots.AxesSubplot at 0x7f7bb7747bd0>"
            ]
          },
          "metadata": {},
          "execution_count": 30
        },
        {
          "output_type": "display_data",
          "data": {
            "image/png": "[encoded data removed]",
            "text/plain": [
              "<Figure size 1600x1760 with 3 Axes>"
            ]
          },
          "metadata": {
            "needs_background": "light"
          }
        }
      ]
    },
    {
      "cell_type": "code",
      "metadata": {
        "id": "x9kMHU0IAdq5"
      },
      "source": [
        "df2=df1[['fecha','Time_Insp_finalizado_minutos']]"
      ],
      "execution_count": null,
      "outputs": []
    },
    {
      "cell_type": "code",
      "metadata": {
        "id": "h0fifsPvqvNM"
      },
      "source": [
        "df2=df2.groupby(['fecha']).sum() #agrupamos las ventas totales por dia"
      ],
      "execution_count": null,
      "outputs": []
    },
    {
      "cell_type": "code",
      "metadata": {
        "colab": {
          "base_uri": "https://localhost:8080/",
          "height": 173
        },
        "id": "4FFvINcxbSM-",
        "outputId": "499d1d77-89aa-426f-b43a-693464fc709c"
      },
      "source": [
        "df2.head(3)"
      ],
      "execution_count": null,
      "outputs": [
        {
          "output_type": "execute_result",
          "data": {
            "text/html": [
              "<div>\n",
              "<style scoped>\n",
              "    .dataframe tbody tr th:only-of-type {\n",
              "        vertical-align: middle;\n",
              "    }\n",
              "\n",
              "    .dataframe tbody tr th {\n",
              "        vertical-align: top;\n",
              "    }\n",
              "\n",
              "    .dataframe thead th {\n",
              "        text-align: right;\n",
              "    }\n",
              "</style>\n",
              "<table border=\"1\" class=\"dataframe\">\n",
              "  <thead>\n",
              "    <tr style=\"text-align: right;\">\n",
              "      <th></th>\n",
              "      <th>Time_Insp_finalizado_minutos</th>\n",
              "    </tr>\n",
              "    <tr>\n",
              "      <th>fecha</th>\n",
              "      <th></th>\n",
              "    </tr>\n",
              "  </thead>\n",
              "  <tbody>\n",
              "    <tr>\n",
              "      <th>2020-05-02</th>\n",
              "      <td>13616.216667</td>\n",
              "    </tr>\n",
              "    <tr>\n",
              "      <th>2020-05-03</th>\n",
              "      <td>16623.683330</td>\n",
              "    </tr>\n",
              "    <tr>\n",
              "      <th>2020-05-04</th>\n",
              "      <td>14124.950001</td>\n",
              "    </tr>\n",
              "  </tbody>\n",
              "</table>\n",
              "</div>"
            ],
            "text/plain": [
              "            Time_Insp_finalizado_minutos\n",
              "fecha                                   \n",
              "2020-05-02                  13616.216667\n",
              "2020-05-03                  16623.683330\n",
              "2020-05-04                  14124.950001"
            ]
          },
          "metadata": {},
          "execution_count": 33
        }
      ]
    },
    {
      "cell_type": "code",
      "metadata": {
        "id": "LybXMM64tnsw"
      },
      "source": [
        "#eliminamos un registro atipico,la ultima fila\n",
        "df2 = df2[:-1]\n",
        "#otra forma df2.drop([1, 2],axis=0)"
      ],
      "execution_count": null,
      "outputs": []
    },
    {
      "cell_type": "code",
      "metadata": {
        "colab": {
          "base_uri": "https://localhost:8080/",
          "height": 450
        },
        "id": "-tQoxUS6u0wy",
        "outputId": "13f64448-b357-45fc-907c-e2d9de5e46dc"
      },
      "source": [
        "df2"
      ],
      "execution_count": null,
      "outputs": [
        {
          "output_type": "execute_result",
          "data": {
            "text/html": [
              "<div>\n",
              "<style scoped>\n",
              "    .dataframe tbody tr th:only-of-type {\n",
              "        vertical-align: middle;\n",
              "    }\n",
              "\n",
              "    .dataframe tbody tr th {\n",
              "        vertical-align: top;\n",
              "    }\n",
              "\n",
              "    .dataframe thead th {\n",
              "        text-align: right;\n",
              "    }\n",
              "</style>\n",
              "<table border=\"1\" class=\"dataframe\">\n",
              "  <thead>\n",
              "    <tr style=\"text-align: right;\">\n",
              "      <th></th>\n",
              "      <th>Time_Insp_finalizado_minutos</th>\n",
              "    </tr>\n",
              "    <tr>\n",
              "      <th>fecha</th>\n",
              "      <th></th>\n",
              "    </tr>\n",
              "  </thead>\n",
              "  <tbody>\n",
              "    <tr>\n",
              "      <th>2020-05-02</th>\n",
              "      <td>13616.216667</td>\n",
              "    </tr>\n",
              "    <tr>\n",
              "      <th>2020-05-03</th>\n",
              "      <td>16623.683330</td>\n",
              "    </tr>\n",
              "    <tr>\n",
              "      <th>2020-05-04</th>\n",
              "      <td>14124.950001</td>\n",
              "    </tr>\n",
              "    <tr>\n",
              "      <th>2020-05-05</th>\n",
              "      <td>18123.466665</td>\n",
              "    </tr>\n",
              "    <tr>\n",
              "      <th>2020-05-06</th>\n",
              "      <td>17143.933333</td>\n",
              "    </tr>\n",
              "    <tr>\n",
              "      <th>...</th>\n",
              "      <td>...</td>\n",
              "    </tr>\n",
              "    <tr>\n",
              "      <th>2020-07-27</th>\n",
              "      <td>22284.949999</td>\n",
              "    </tr>\n",
              "    <tr>\n",
              "      <th>2020-07-28</th>\n",
              "      <td>29122.549999</td>\n",
              "    </tr>\n",
              "    <tr>\n",
              "      <th>2020-07-29</th>\n",
              "      <td>32512.849998</td>\n",
              "    </tr>\n",
              "    <tr>\n",
              "      <th>2020-07-30</th>\n",
              "      <td>34889.449998</td>\n",
              "    </tr>\n",
              "    <tr>\n",
              "      <th>2020-07-31</th>\n",
              "      <td>35403.966666</td>\n",
              "    </tr>\n",
              "  </tbody>\n",
              "</table>\n",
              "<p>91 rows × 1 columns</p>\n",
              "</div>"
            ],
            "text/plain": [
              "            Time_Insp_finalizado_minutos\n",
              "fecha                                   \n",
              "2020-05-02                  13616.216667\n",
              "2020-05-03                  16623.683330\n",
              "2020-05-04                  14124.950001\n",
              "2020-05-05                  18123.466665\n",
              "2020-05-06                  17143.933333\n",
              "...                                  ...\n",
              "2020-07-27                  22284.949999\n",
              "2020-07-28                  29122.549999\n",
              "2020-07-29                  32512.849998\n",
              "2020-07-30                  34889.449998\n",
              "2020-07-31                  35403.966666\n",
              "\n",
              "[91 rows x 1 columns]"
            ]
          },
          "metadata": {},
          "execution_count": 35
        }
      ]
    },
    {
      "cell_type": "code",
      "metadata": {
        "colab": {
          "base_uri": "https://localhost:8080/"
        },
        "id": "bRNPVbiERN4m",
        "outputId": "2cb91f57-4ce3-4e11-f43a-416cd34064d2"
      },
      "source": [
        "df2.shape"
      ],
      "execution_count": null,
      "outputs": [
        {
          "output_type": "execute_result",
          "data": {
            "text/plain": [
              "(91, 1)"
            ]
          },
          "metadata": {},
          "execution_count": 36
        }
      ]
    },
    {
      "cell_type": "code",
      "metadata": {
        "colab": {
          "base_uri": "https://localhost:8080/",
          "height": 488
        },
        "id": "cL_lOoYtRN8F",
        "outputId": "144e901f-fef4-43a9-aede-0013661b4a23"
      },
      "source": [
        "plt.figure(figsize=(16,5), dpi=100)\n",
        "plt.title('Tiempo de inspeccion finalizado', fontsize=13)\n",
        "plt.plot(df2.index, df2.Time_Insp_finalizado_minutos,color='mediumblue')\n",
        "plt.xticks(fontsize=13)\n",
        "plt.yticks(fontsize=13)\n",
        "plt.xlabel('Fecha',fontsize=13)\n",
        "plt.ylabel('Time_Insp_finalizado_minutos',fontsize=13)\n",
        "plt.show()"
      ],
      "execution_count": null,
      "outputs": [
        {
          "output_type": "display_data",
          "data": {
            "image/png": "[encoded data removed]",
            "text/plain": [
              "<Figure size 1600x500 with 1 Axes>"
            ]
          },
          "metadata": {
            "needs_background": "light"
          }
        }
      ]
    },
    {
      "cell_type": "code",
      "metadata": {
        "colab": {
          "base_uri": "https://localhost:8080/",
          "height": 450
        },
        "id": "wmH6tV6XtiDn",
        "outputId": "0c291973-3422-45c8-bf82-b61d9d4a697f"
      },
      "source": [
        "df2"
      ],
      "execution_count": null,
      "outputs": [
        {
          "output_type": "execute_result",
          "data": {
            "text/html": [
              "<div>\n",
              "<style scoped>\n",
              "    .dataframe tbody tr th:only-of-type {\n",
              "        vertical-align: middle;\n",
              "    }\n",
              "\n",
              "    .dataframe tbody tr th {\n",
              "        vertical-align: top;\n",
              "    }\n",
              "\n",
              "    .dataframe thead th {\n",
              "        text-align: right;\n",
              "    }\n",
              "</style>\n",
              "<table border=\"1\" class=\"dataframe\">\n",
              "  <thead>\n",
              "    <tr style=\"text-align: right;\">\n",
              "      <th></th>\n",
              "      <th>Time_Insp_finalizado_minutos</th>\n",
              "    </tr>\n",
              "    <tr>\n",
              "      <th>fecha</th>\n",
              "      <th></th>\n",
              "    </tr>\n",
              "  </thead>\n",
              "  <tbody>\n",
              "    <tr>\n",
              "      <th>2020-05-02</th>\n",
              "      <td>13616.216667</td>\n",
              "    </tr>\n",
              "    <tr>\n",
              "      <th>2020-05-03</th>\n",
              "      <td>16623.683330</td>\n",
              "    </tr>\n",
              "    <tr>\n",
              "      <th>2020-05-04</th>\n",
              "      <td>14124.950001</td>\n",
              "    </tr>\n",
              "    <tr>\n",
              "      <th>2020-05-05</th>\n",
              "      <td>18123.466665</td>\n",
              "    </tr>\n",
              "    <tr>\n",
              "      <th>2020-05-06</th>\n",
              "      <td>17143.933333</td>\n",
              "    </tr>\n",
              "    <tr>\n",
              "      <th>...</th>\n",
              "      <td>...</td>\n",
              "    </tr>\n",
              "    <tr>\n",
              "      <th>2020-07-27</th>\n",
              "      <td>22284.949999</td>\n",
              "    </tr>\n",
              "    <tr>\n",
              "      <th>2020-07-28</th>\n",
              "      <td>29122.549999</td>\n",
              "    </tr>\n",
              "    <tr>\n",
              "      <th>2020-07-29</th>\n",
              "      <td>32512.849998</td>\n",
              "    </tr>\n",
              "    <tr>\n",
              "      <th>2020-07-30</th>\n",
              "      <td>34889.449998</td>\n",
              "    </tr>\n",
              "    <tr>\n",
              "      <th>2020-07-31</th>\n",
              "      <td>35403.966666</td>\n",
              "    </tr>\n",
              "  </tbody>\n",
              "</table>\n",
              "<p>91 rows × 1 columns</p>\n",
              "</div>"
            ],
            "text/plain": [
              "            Time_Insp_finalizado_minutos\n",
              "fecha                                   \n",
              "2020-05-02                  13616.216667\n",
              "2020-05-03                  16623.683330\n",
              "2020-05-04                  14124.950001\n",
              "2020-05-05                  18123.466665\n",
              "2020-05-06                  17143.933333\n",
              "...                                  ...\n",
              "2020-07-27                  22284.949999\n",
              "2020-07-28                  29122.549999\n",
              "2020-07-29                  32512.849998\n",
              "2020-07-30                  34889.449998\n",
              "2020-07-31                  35403.966666\n",
              "\n",
              "[91 rows x 1 columns]"
            ]
          },
          "metadata": {},
          "execution_count": 38
        }
      ]
    },
    {
      "cell_type": "code",
      "metadata": {
        "colab": {
          "base_uri": "https://localhost:8080/"
        },
        "id": "qM_L5g1fvJcH",
        "outputId": "470d1943-b8b5-4db0-81a3-633a42457444"
      },
      "source": [
        "18/91"
      ],
      "execution_count": null,
      "outputs": [
        {
          "output_type": "execute_result",
          "data": {
            "text/plain": [
              "0.1978021978021978"
            ]
          },
          "metadata": {},
          "execution_count": 39
        }
      ]
    },
    {
      "cell_type": "code",
      "metadata": {
        "colab": {
          "base_uri": "https://localhost:8080/"
        },
        "id": "4o2Pg1G-8Efi",
        "outputId": "23666842-0736-406f-a096-06c0fb7f32f5"
      },
      "source": [
        "len(df2[-17:])"
      ],
      "execution_count": null,
      "outputs": [
        {
          "output_type": "execute_result",
          "data": {
            "text/plain": [
              "17"
            ]
          },
          "metadata": {},
          "execution_count": 40
        }
      ]
    },
    {
      "cell_type": "code",
      "metadata": {
        "id": "CDZqYvw38Emx"
      },
      "source": [
        "train, test= df2[:-17], df2[-17:]"
      ],
      "execution_count": null,
      "outputs": []
    },
    {
      "cell_type": "markdown",
      "metadata": {
        "id": "rVYvUHU4GGxA"
      },
      "source": [
        "## **3.-Feature Scaling**"
      ]
    },
    {
      "cell_type": "code",
      "metadata": {
        "colab": {
          "base_uri": "https://localhost:8080/"
        },
        "id": "8NFOXDLyvdQe",
        "outputId": "5da586dc-de52-4c59-841a-46d7428f39c5"
      },
      "source": [
        "#Escalado de caracteristicas (features)\n",
        "from sklearn.preprocessing import MinMaxScaler\n",
        "Scaler=MinMaxScaler()\n",
        "Scaler.fit(train)"
      ],
      "execution_count": null,
      "outputs": [
        {
          "output_type": "execute_result",
          "data": {
            "text/plain": [
              "MinMaxScaler(copy=True, feature_range=(0, 1))"
            ]
          },
          "metadata": {},
          "execution_count": 44
        }
      ]
    },
    {
      "cell_type": "code",
      "metadata": {
        "id": "0QBzqbtwyxVQ"
      },
      "source": [
        "train=Scaler.transform(train)\n",
        "test=Scaler.transform(test)"
      ],
      "execution_count": null,
      "outputs": []
    },
    {
      "cell_type": "code",
      "metadata": {
        "id": "c3Uq7fvP00Ip",
        "colab": {
          "base_uri": "https://localhost:8080/"
        },
        "outputId": "b0b46bf9-2893-428d-b19d-f558e4a5ff84"
      },
      "source": [
        "import numpy as np\n",
        "import pandas as pd\n",
        "from sklearn.preprocessing  import StandardScaler\n",
        "import matplotlib.pyplot as plt\n",
        "%matplotlib inline\n",
        "from statsmodels.tools.eval_measures import rmse\n",
        "from sklearn.preprocessing import MinMaxScaler\n",
        "from keras.preprocessing.sequence import TimeseriesGenerator\n",
        "from keras.models import Sequential\n",
        "from keras.layers import Dense\n",
        "from keras.layers import LSTM\n",
        "from keras.layers import Dropout\n",
        "import warnings\n",
        "warnings.filterwarnings('ignore')\n",
        "\n",
        "\n",
        "from google.colab import files\n",
        "from statsmodels.tools.eval_measures import rmse\n",
        "from sklearn.metrics import r2_score\n",
        "from keras.callbacks import EarlyStopping\n",
        "from keras.optimizers import Adam"
      ],
      "execution_count": null,
      "outputs": [
        {
          "output_type": "stream",
          "text": [
            "/usr/local/lib/python3.7/dist-packages/statsmodels/tools/_testing.py:19: FutureWarning: pandas.util.testing is deprecated. Use the functions in the public API at pandas.testing instead.\n",
            "  import pandas.util.testing as tm\n",
            "Using TensorFlow backend.\n"
          ],
          "name": "stderr"
        }
      ]
    },
    {
      "cell_type": "code",
      "metadata": {
        "id": "k6cmILaG5a8u"
      },
      "source": [
        "# se va pronosticar 17 puntos hacia adelante (1punto=1dia de venta)\n",
        "#Se necesita una ventana de 17 dias\n",
        "n_input= 17\n",
        "n_features=1\n",
        "generator=TimeseriesGenerator(train, train, length=n_input, batch_size=6)"
      ],
      "execution_count": null,
      "outputs": []
    },
    {
      "cell_type": "code",
      "metadata": {
        "colab": {
          "base_uri": "https://localhost:8080/"
        },
        "id": "_H9EDmBU5vek",
        "outputId": "53642864-c9fd-447f-e145-50e84e0604a0"
      },
      "source": [
        "generator.data.shape"
      ],
      "execution_count": null,
      "outputs": [
        {
          "output_type": "execute_result",
          "data": {
            "text/plain": [
              "(74, 1)"
            ]
          },
          "metadata": {},
          "execution_count": 48
        }
      ]
    },
    {
      "cell_type": "code",
      "metadata": {
        "colab": {
          "base_uri": "https://localhost:8080/"
        },
        "id": "rt0vYEt550kU",
        "outputId": "8e24bcb2-e108-43a4-c400-320d7f3f4771"
      },
      "source": [
        "n_features"
      ],
      "execution_count": null,
      "outputs": [
        {
          "output_type": "execute_result",
          "data": {
            "text/plain": [
              "1"
            ]
          },
          "metadata": {},
          "execution_count": 49
        }
      ]
    },
    {
      "cell_type": "markdown",
      "metadata": {
        "id": "XEmtgkv6JCqZ"
      },
      "source": [
        "## **.-Training LSTM**"
      ]
    },
    {
      "cell_type": "code",
      "metadata": {
        "colab": {
          "base_uri": "https://localhost:8080/"
        },
        "id": "fOmmYJYI56F8",
        "outputId": "f3b153ae-b134-4296-aaf6-72b840c0dbe9"
      },
      "source": [
        "model=Sequential()\n",
        "model.add(LSTM(200, activation=\"relu\", input_shape=(n_input, n_features)))\n",
        "model.add(Dropout(0.15))\n",
        "model.add(Dense(1))\n",
        "model.compile(loss=\"mse\", optimizer='adam')\n",
        "model.fit_generator(generator, epochs=180)"
      ],
      "execution_count": null,
      "outputs": [
        {
          "output_type": "stream",
          "text": [
            "WARNING:tensorflow:From /tensorflow-1.15.2/python3.7/tensorflow_core/python/ops/resource_variable_ops.py:1630: calling BaseResourceVariable.__init__ (from tensorflow.python.ops.resource_variable_ops) with constraint is deprecated and will be removed in a future version.\n",
            "Instructions for updating:\n",
            "If using Keras pass *_constraint arguments to layers.\n",
            "WARNING:tensorflow:From /tensorflow-1.15.2/python3.7/keras/backend/tensorflow_backend.py:422: The name tf.global_variables is deprecated. Please use tf.compat.v1.global_variables instead.\n",
            "\n",
            "Epoch 1/180\n",
            "10/10 [==============================] - 1s 96ms/step - loss: 0.3793\n",
            "Epoch 2/180\n",
            "10/10 [==============================] - 0s 31ms/step - loss: 0.0934\n",
            "Epoch 3/180\n",
            "10/10 [==============================] - 0s 32ms/step - loss: 0.0477\n",
            "Epoch 4/180\n",
            "10/10 [==============================] - 0s 30ms/step - loss: 0.0332\n",
            "Epoch 5/180\n",
            "10/10 [==============================] - 0s 30ms/step - loss: 0.0298\n",
            "Epoch 6/180\n",
            "10/10 [==============================] - 0s 31ms/step - loss: 0.0269\n",
            "Epoch 7/180\n",
            "10/10 [==============================] - 0s 30ms/step - loss: 0.0318\n",
            "Epoch 8/180\n",
            "10/10 [==============================] - 0s 32ms/step - loss: 0.0307\n",
            "Epoch 9/180\n",
            "10/10 [==============================] - 0s 31ms/step - loss: 0.0272\n",
            "Epoch 10/180\n",
            "10/10 [==============================] - 0s 31ms/step - loss: 0.0295\n",
            "Epoch 11/180\n",
            "10/10 [==============================] - 0s 30ms/step - loss: 0.0292\n",
            "Epoch 12/180\n",
            "10/10 [==============================] - 0s 29ms/step - loss: 0.0259\n",
            "Epoch 13/180\n",
            "10/10 [==============================] - 0s 31ms/step - loss: 0.0280\n",
            "Epoch 14/180\n",
            "10/10 [==============================] - 0s 30ms/step - loss: 0.0260\n",
            "Epoch 15/180\n",
            "10/10 [==============================] - 0s 31ms/step - loss: 0.0254\n",
            "Epoch 16/180\n",
            "10/10 [==============================] - 0s 30ms/step - loss: 0.0305\n",
            "Epoch 17/180\n",
            "10/10 [==============================] - 0s 30ms/step - loss: 0.0277\n",
            "Epoch 18/180\n",
            "10/10 [==============================] - 0s 32ms/step - loss: 0.0323\n",
            "Epoch 19/180\n",
            "10/10 [==============================] - 0s 30ms/step - loss: 0.0279\n",
            "Epoch 20/180\n",
            "10/10 [==============================] - 0s 31ms/step - loss: 0.0276\n",
            "Epoch 21/180\n",
            "10/10 [==============================] - 0s 33ms/step - loss: 0.0324\n",
            "Epoch 22/180\n",
            "10/10 [==============================] - 0s 32ms/step - loss: 0.0339\n",
            "Epoch 23/180\n",
            "10/10 [==============================] - 0s 33ms/step - loss: 0.0320\n",
            "Epoch 24/180\n",
            "10/10 [==============================] - 0s 33ms/step - loss: 0.0252\n",
            "Epoch 25/180\n",
            "10/10 [==============================] - 0s 33ms/step - loss: 0.0266\n",
            "Epoch 26/180\n",
            "10/10 [==============================] - 0s 32ms/step - loss: 0.0252\n",
            "Epoch 27/180\n",
            "10/10 [==============================] - 0s 34ms/step - loss: 0.0229\n",
            "Epoch 28/180\n",
            "10/10 [==============================] - 0s 34ms/step - loss: 0.0291\n",
            "Epoch 29/180\n",
            "10/10 [==============================] - 0s 32ms/step - loss: 0.0297\n",
            "Epoch 30/180\n",
            "10/10 [==============================] - 0s 33ms/step - loss: 0.0257\n",
            "Epoch 31/180\n",
            "10/10 [==============================] - 0s 34ms/step - loss: 0.0255\n",
            "Epoch 32/180\n",
            "10/10 [==============================] - 0s 34ms/step - loss: 0.0282\n",
            "Epoch 33/180\n",
            "10/10 [==============================] - 0s 34ms/step - loss: 0.0252\n",
            "Epoch 34/180\n",
            "10/10 [==============================] - 0s 36ms/step - loss: 0.0290\n",
            "Epoch 35/180\n",
            "10/10 [==============================] - 0s 36ms/step - loss: 0.0244\n",
            "Epoch 36/180\n",
            "10/10 [==============================] - 0s 34ms/step - loss: 0.0299\n",
            "Epoch 37/180\n",
            "10/10 [==============================] - 0s 34ms/step - loss: 0.0387\n",
            "Epoch 38/180\n",
            "10/10 [==============================] - 0s 35ms/step - loss: 0.0311\n",
            "Epoch 39/180\n",
            "10/10 [==============================] - 0s 31ms/step - loss: 0.0288\n",
            "Epoch 40/180\n",
            "10/10 [==============================] - 0s 33ms/step - loss: 0.0281\n",
            "Epoch 41/180\n",
            "10/10 [==============================] - 0s 32ms/step - loss: 0.0252\n",
            "Epoch 42/180\n",
            "10/10 [==============================] - 0s 35ms/step - loss: 0.0265\n",
            "Epoch 43/180\n",
            "10/10 [==============================] - 0s 32ms/step - loss: 0.0267\n",
            "Epoch 44/180\n",
            "10/10 [==============================] - 0s 33ms/step - loss: 0.0278\n",
            "Epoch 45/180\n",
            "10/10 [==============================] - 0s 32ms/step - loss: 0.0318\n",
            "Epoch 46/180\n",
            "10/10 [==============================] - 0s 32ms/step - loss: 0.0262\n",
            "Epoch 47/180\n",
            "10/10 [==============================] - 0s 31ms/step - loss: 0.0309\n",
            "Epoch 48/180\n",
            "10/10 [==============================] - 0s 32ms/step - loss: 0.0282\n",
            "Epoch 49/180\n",
            "10/10 [==============================] - 0s 32ms/step - loss: 0.0270\n",
            "Epoch 50/180\n",
            "10/10 [==============================] - 0s 30ms/step - loss: 0.0267\n",
            "Epoch 51/180\n",
            "10/10 [==============================] - 0s 34ms/step - loss: 0.0278\n",
            "Epoch 52/180\n",
            "10/10 [==============================] - 0s 32ms/step - loss: 0.0294\n",
            "Epoch 53/180\n",
            "10/10 [==============================] - 0s 32ms/step - loss: 0.0285\n",
            "Epoch 54/180\n",
            "10/10 [==============================] - 0s 34ms/step - loss: 0.0254\n",
            "Epoch 55/180\n",
            "10/10 [==============================] - 0s 35ms/step - loss: 0.0265\n",
            "Epoch 56/180\n",
            "10/10 [==============================] - 0s 32ms/step - loss: 0.0234\n",
            "Epoch 57/180\n",
            "10/10 [==============================] - 0s 32ms/step - loss: 0.0282\n",
            "Epoch 58/180\n",
            "10/10 [==============================] - 0s 34ms/step - loss: 0.0272\n",
            "Epoch 59/180\n",
            "10/10 [==============================] - 0s 32ms/step - loss: 0.0263\n",
            "Epoch 60/180\n",
            "10/10 [==============================] - 0s 32ms/step - loss: 0.0276\n",
            "Epoch 61/180\n",
            "10/10 [==============================] - 0s 33ms/step - loss: 0.0275\n",
            "Epoch 62/180\n",
            "10/10 [==============================] - 0s 33ms/step - loss: 0.0289\n",
            "Epoch 63/180\n",
            "10/10 [==============================] - 0s 33ms/step - loss: 0.0278\n",
            "Epoch 64/180\n",
            "10/10 [==============================] - 0s 33ms/step - loss: 0.0293\n",
            "Epoch 65/180\n",
            "10/10 [==============================] - 0s 33ms/step - loss: 0.0265\n",
            "Epoch 66/180\n",
            "10/10 [==============================] - 0s 34ms/step - loss: 0.0256\n",
            "Epoch 67/180\n",
            "10/10 [==============================] - 0s 35ms/step - loss: 0.0257\n",
            "Epoch 68/180\n",
            "10/10 [==============================] - 0s 33ms/step - loss: 0.0309\n",
            "Epoch 69/180\n",
            "10/10 [==============================] - 0s 32ms/step - loss: 0.0262\n",
            "Epoch 70/180\n",
            "10/10 [==============================] - 0s 31ms/step - loss: 0.0267\n",
            "Epoch 71/180\n",
            "10/10 [==============================] - 0s 34ms/step - loss: 0.0296\n",
            "Epoch 72/180\n",
            "10/10 [==============================] - 0s 31ms/step - loss: 0.0262\n",
            "Epoch 73/180\n",
            "10/10 [==============================] - 0s 30ms/step - loss: 0.0279\n",
            "Epoch 74/180\n",
            "10/10 [==============================] - 0s 33ms/step - loss: 0.0235\n",
            "Epoch 75/180\n",
            "10/10 [==============================] - 0s 31ms/step - loss: 0.0342\n",
            "Epoch 76/180\n",
            "10/10 [==============================] - 0s 29ms/step - loss: 0.0262\n",
            "Epoch 77/180\n",
            "10/10 [==============================] - 0s 34ms/step - loss: 0.0286\n",
            "Epoch 78/180\n",
            "10/10 [==============================] - 0s 31ms/step - loss: 0.0263\n",
            "Epoch 79/180\n",
            "10/10 [==============================] - 0s 30ms/step - loss: 0.0242\n",
            "Epoch 80/180\n",
            "10/10 [==============================] - 0s 33ms/step - loss: 0.0269\n",
            "Epoch 81/180\n",
            "10/10 [==============================] - 0s 32ms/step - loss: 0.0266\n",
            "Epoch 82/180\n",
            "10/10 [==============================] - 0s 31ms/step - loss: 0.0299\n",
            "Epoch 83/180\n",
            "10/10 [==============================] - 0s 32ms/step - loss: 0.0272\n",
            "Epoch 84/180\n",
            "10/10 [==============================] - 0s 33ms/step - loss: 0.0230\n",
            "Epoch 85/180\n",
            "10/10 [==============================] - 0s 33ms/step - loss: 0.0257\n",
            "Epoch 86/180\n",
            "10/10 [==============================] - 0s 34ms/step - loss: 0.0245\n",
            "Epoch 87/180\n",
            "10/10 [==============================] - 0s 30ms/step - loss: 0.0243\n",
            "Epoch 88/180\n",
            "10/10 [==============================] - 0s 32ms/step - loss: 0.0272\n",
            "Epoch 89/180\n",
            "10/10 [==============================] - 0s 36ms/step - loss: 0.0216\n",
            "Epoch 90/180\n",
            "10/10 [==============================] - 0s 31ms/step - loss: 0.0257\n",
            "Epoch 91/180\n",
            "10/10 [==============================] - 0s 33ms/step - loss: 0.0283\n",
            "Epoch 92/180\n",
            "10/10 [==============================] - 0s 35ms/step - loss: 0.0229\n",
            "Epoch 93/180\n",
            "10/10 [==============================] - 0s 34ms/step - loss: 0.0201\n",
            "Epoch 94/180\n",
            "10/10 [==============================] - 0s 34ms/step - loss: 0.0226\n",
            "Epoch 95/180\n",
            "10/10 [==============================] - 0s 35ms/step - loss: 0.0261\n",
            "Epoch 96/180\n",
            "10/10 [==============================] - 0s 33ms/step - loss: 0.0229\n",
            "Epoch 97/180\n",
            "10/10 [==============================] - 0s 35ms/step - loss: 0.0236\n",
            "Epoch 98/180\n",
            "10/10 [==============================] - 0s 34ms/step - loss: 0.0231\n",
            "Epoch 99/180\n",
            "10/10 [==============================] - 0s 34ms/step - loss: 0.0247\n",
            "Epoch 100/180\n",
            "10/10 [==============================] - 0s 33ms/step - loss: 0.0241\n",
            "Epoch 101/180\n",
            "10/10 [==============================] - 0s 31ms/step - loss: 0.0229\n",
            "Epoch 102/180\n",
            "10/10 [==============================] - 0s 32ms/step - loss: 0.0258\n",
            "Epoch 103/180\n",
            "10/10 [==============================] - 0s 32ms/step - loss: 0.0277\n",
            "Epoch 104/180\n",
            "10/10 [==============================] - 0s 33ms/step - loss: 0.0218\n",
            "Epoch 105/180\n",
            "10/10 [==============================] - 0s 32ms/step - loss: 0.0250\n",
            "Epoch 106/180\n",
            "10/10 [==============================] - 0s 34ms/step - loss: 0.0211\n",
            "Epoch 107/180\n",
            "10/10 [==============================] - 0s 34ms/step - loss: 0.0276\n",
            "Epoch 108/180\n",
            "10/10 [==============================] - 0s 32ms/step - loss: 0.0256\n",
            "Epoch 109/180\n",
            "10/10 [==============================] - 0s 34ms/step - loss: 0.0216\n",
            "Epoch 110/180\n",
            "10/10 [==============================] - 0s 32ms/step - loss: 0.0275\n",
            "Epoch 111/180\n",
            "10/10 [==============================] - 0s 34ms/step - loss: 0.0225\n",
            "Epoch 112/180\n",
            "10/10 [==============================] - 0s 31ms/step - loss: 0.0217\n",
            "Epoch 113/180\n",
            "10/10 [==============================] - 0s 31ms/step - loss: 0.0207\n",
            "Epoch 114/180\n",
            "10/10 [==============================] - 0s 34ms/step - loss: 0.0194\n",
            "Epoch 115/180\n",
            "10/10 [==============================] - 0s 31ms/step - loss: 0.0191\n",
            "Epoch 116/180\n",
            "10/10 [==============================] - 0s 31ms/step - loss: 0.0197\n",
            "Epoch 117/180\n",
            "10/10 [==============================] - 0s 31ms/step - loss: 0.0244\n",
            "Epoch 118/180\n",
            "10/10 [==============================] - 0s 32ms/step - loss: 0.0221\n",
            "Epoch 119/180\n",
            "10/10 [==============================] - 0s 32ms/step - loss: 0.0236\n",
            "Epoch 120/180\n",
            "10/10 [==============================] - 0s 31ms/step - loss: 0.0178\n",
            "Epoch 121/180\n",
            "10/10 [==============================] - 0s 35ms/step - loss: 0.0207\n",
            "Epoch 122/180\n",
            "10/10 [==============================] - 0s 33ms/step - loss: 0.0216\n",
            "Epoch 123/180\n",
            "10/10 [==============================] - 0s 37ms/step - loss: 0.0240\n",
            "Epoch 124/180\n",
            "10/10 [==============================] - 0s 33ms/step - loss: 0.0209\n",
            "Epoch 125/180\n",
            "10/10 [==============================] - 0s 33ms/step - loss: 0.0201\n",
            "Epoch 126/180\n",
            "10/10 [==============================] - 0s 33ms/step - loss: 0.0211\n",
            "Epoch 127/180\n",
            "10/10 [==============================] - 0s 35ms/step - loss: 0.0258\n",
            "Epoch 128/180\n",
            "10/10 [==============================] - 0s 33ms/step - loss: 0.0219\n",
            "Epoch 129/180\n",
            "10/10 [==============================] - 0s 34ms/step - loss: 0.0161\n",
            "Epoch 130/180\n",
            "10/10 [==============================] - 0s 32ms/step - loss: 0.0210\n",
            "Epoch 131/180\n",
            "10/10 [==============================] - 0s 33ms/step - loss: 0.0193\n",
            "Epoch 132/180\n",
            "10/10 [==============================] - 0s 30ms/step - loss: 0.0192\n",
            "Epoch 133/180\n",
            "10/10 [==============================] - 0s 33ms/step - loss: 0.0196\n",
            "Epoch 134/180\n",
            "10/10 [==============================] - 0s 31ms/step - loss: 0.0178\n",
            "Epoch 135/180\n",
            "10/10 [==============================] - 0s 32ms/step - loss: 0.0209\n",
            "Epoch 136/180\n",
            "10/10 [==============================] - 0s 32ms/step - loss: 0.0215\n",
            "Epoch 137/180\n",
            "10/10 [==============================] - 0s 31ms/step - loss: 0.0241\n",
            "Epoch 138/180\n",
            "10/10 [==============================] - 0s 33ms/step - loss: 0.0185\n",
            "Epoch 139/180\n",
            "10/10 [==============================] - 0s 32ms/step - loss: 0.0225\n",
            "Epoch 140/180\n",
            "10/10 [==============================] - 0s 34ms/step - loss: 0.0220\n",
            "Epoch 141/180\n",
            "10/10 [==============================] - 0s 32ms/step - loss: 0.0156\n",
            "Epoch 142/180\n",
            "10/10 [==============================] - 0s 36ms/step - loss: 0.0213\n",
            "Epoch 143/180\n",
            "10/10 [==============================] - 0s 30ms/step - loss: 0.0195\n",
            "Epoch 144/180\n",
            "10/10 [==============================] - 0s 32ms/step - loss: 0.0213\n",
            "Epoch 145/180\n",
            "10/10 [==============================] - 0s 33ms/step - loss: 0.0250\n",
            "Epoch 146/180\n",
            "10/10 [==============================] - 0s 30ms/step - loss: 0.0208\n",
            "Epoch 147/180\n",
            "10/10 [==============================] - 0s 33ms/step - loss: 0.0203\n",
            "Epoch 148/180\n",
            "10/10 [==============================] - 0s 33ms/step - loss: 0.0203\n",
            "Epoch 149/180\n",
            "10/10 [==============================] - 0s 33ms/step - loss: 0.0185\n",
            "Epoch 150/180\n",
            "10/10 [==============================] - 0s 34ms/step - loss: 0.0173\n",
            "Epoch 151/180\n",
            "10/10 [==============================] - 0s 31ms/step - loss: 0.0180\n",
            "Epoch 152/180\n",
            "10/10 [==============================] - 0s 32ms/step - loss: 0.0179\n",
            "Epoch 153/180\n",
            "10/10 [==============================] - 0s 31ms/step - loss: 0.0168\n",
            "Epoch 154/180\n",
            "10/10 [==============================] - 0s 29ms/step - loss: 0.0185\n",
            "Epoch 155/180\n",
            "10/10 [==============================] - 0s 32ms/step - loss: 0.0174\n",
            "Epoch 156/180\n",
            "10/10 [==============================] - 0s 33ms/step - loss: 0.0187\n",
            "Epoch 157/180\n",
            "10/10 [==============================] - 0s 32ms/step - loss: 0.0183\n",
            "Epoch 158/180\n",
            "10/10 [==============================] - 0s 33ms/step - loss: 0.0219\n",
            "Epoch 159/180\n",
            "10/10 [==============================] - 0s 30ms/step - loss: 0.0162\n",
            "Epoch 160/180\n",
            "10/10 [==============================] - 0s 30ms/step - loss: 0.0184\n",
            "Epoch 161/180\n",
            "10/10 [==============================] - 0s 29ms/step - loss: 0.0190\n",
            "Epoch 162/180\n",
            "10/10 [==============================] - 0s 29ms/step - loss: 0.0189\n",
            "Epoch 163/180\n",
            "10/10 [==============================] - 0s 31ms/step - loss: 0.0187\n",
            "Epoch 164/180\n",
            "10/10 [==============================] - 0s 30ms/step - loss: 0.0171\n",
            "Epoch 165/180\n",
            "10/10 [==============================] - 0s 30ms/step - loss: 0.0183\n",
            "Epoch 166/180\n",
            "10/10 [==============================] - 0s 31ms/step - loss: 0.0169\n",
            "Epoch 167/180\n",
            "10/10 [==============================] - 0s 31ms/step - loss: 0.0201\n",
            "Epoch 168/180\n",
            "10/10 [==============================] - 0s 33ms/step - loss: 0.0170\n",
            "Epoch 169/180\n",
            "10/10 [==============================] - 0s 30ms/step - loss: 0.0197\n",
            "Epoch 170/180\n",
            "10/10 [==============================] - 0s 30ms/step - loss: 0.0203\n",
            "Epoch 171/180\n",
            "10/10 [==============================] - 0s 30ms/step - loss: 0.0189\n",
            "Epoch 172/180\n",
            "10/10 [==============================] - 0s 32ms/step - loss: 0.0199\n",
            "Epoch 173/180\n",
            "10/10 [==============================] - 0s 31ms/step - loss: 0.0185\n",
            "Epoch 174/180\n",
            "10/10 [==============================] - 0s 31ms/step - loss: 0.0201\n",
            "Epoch 175/180\n",
            "10/10 [==============================] - 0s 33ms/step - loss: 0.0186\n",
            "Epoch 176/180\n",
            "10/10 [==============================] - 0s 30ms/step - loss: 0.0171\n",
            "Epoch 177/180\n",
            "10/10 [==============================] - 0s 31ms/step - loss: 0.0195\n",
            "Epoch 178/180\n",
            "10/10 [==============================] - 0s 31ms/step - loss: 0.0183\n",
            "Epoch 179/180\n",
            "10/10 [==============================] - 0s 31ms/step - loss: 0.0193\n",
            "Epoch 180/180\n",
            "10/10 [==============================] - 0s 32ms/step - loss: 0.0168\n"
          ],
          "name": "stdout"
        },
        {
          "output_type": "execute_result",
          "data": {
            "text/plain": [
              "<keras.callbacks.callbacks.History at 0x7f7bb746f710>"
            ]
          },
          "metadata": {},
          "execution_count": 50
        }
      ]
    },
    {
      "cell_type": "code",
      "metadata": {
        "id": "Kc5iEylFJkU2"
      },
      "source": [
        "#Una vez que se entrena el modelo, podemos generar una predicción para fechas futuras.\n",
        "#La idea aquí: generar una predicción para un paso futuro, utilizando los últimos 17 pasos.\n",
        "# Agregue una nueva predicción a la matriz, elimine la primera entrada de la misma matriz y\n",
        "#prediga el siguiente paso con una matriz actualizada de 17 pasos."
      ],
      "execution_count": null,
      "outputs": []
    },
    {
      "cell_type": "code",
      "metadata": {
        "colab": {
          "base_uri": "https://localhost:8080/"
        },
        "id": "BuzYiJkMQ7Er",
        "outputId": "fe89ef93-4d65-43e1-f6b3-dd1aaae235f2"
      },
      "source": [
        "history=model.fit_generator(generator, epochs=180)"
      ],
      "execution_count": null,
      "outputs": [
        {
          "output_type": "stream",
          "text": [
            "Epoch 1/180\n",
            "10/10 [==============================] - 0s 34ms/step - loss: 0.0193\n",
            "Epoch 2/180\n",
            "10/10 [==============================] - 0s 34ms/step - loss: 0.0175\n",
            "Epoch 3/180\n",
            "10/10 [==============================] - 0s 34ms/step - loss: 0.0175\n",
            "Epoch 4/180\n",
            "10/10 [==============================] - 0s 32ms/step - loss: 0.0171\n",
            "Epoch 5/180\n",
            "10/10 [==============================] - 0s 32ms/step - loss: 0.0174\n",
            "Epoch 6/180\n",
            "10/10 [==============================] - 0s 31ms/step - loss: 0.0202\n",
            "Epoch 7/180\n",
            "10/10 [==============================] - 0s 32ms/step - loss: 0.0157\n",
            "Epoch 8/180\n",
            "10/10 [==============================] - 0s 29ms/step - loss: 0.0174\n",
            "Epoch 9/180\n",
            "10/10 [==============================] - 0s 31ms/step - loss: 0.0216\n",
            "Epoch 10/180\n",
            "10/10 [==============================] - 0s 29ms/step - loss: 0.0192\n",
            "Epoch 11/180\n",
            "10/10 [==============================] - 0s 30ms/step - loss: 0.0180\n",
            "Epoch 12/180\n",
            "10/10 [==============================] - 0s 33ms/step - loss: 0.0180\n",
            "Epoch 13/180\n",
            "10/10 [==============================] - 0s 32ms/step - loss: 0.0169\n",
            "Epoch 14/180\n",
            "10/10 [==============================] - 0s 33ms/step - loss: 0.0194\n",
            "Epoch 15/180\n",
            "10/10 [==============================] - 0s 34ms/step - loss: 0.0167\n",
            "Epoch 16/180\n",
            "10/10 [==============================] - 0s 31ms/step - loss: 0.0176\n",
            "Epoch 17/180\n",
            "10/10 [==============================] - 0s 34ms/step - loss: 0.0215\n",
            "Epoch 18/180\n",
            "10/10 [==============================] - 0s 34ms/step - loss: 0.0191\n",
            "Epoch 19/180\n",
            "10/10 [==============================] - 0s 31ms/step - loss: 0.0222\n",
            "Epoch 20/180\n",
            "10/10 [==============================] - 0s 31ms/step - loss: 0.0199\n",
            "Epoch 21/180\n",
            "10/10 [==============================] - 0s 38ms/step - loss: 0.0198\n",
            "Epoch 22/180\n",
            "10/10 [==============================] - 0s 34ms/step - loss: 0.0205\n",
            "Epoch 23/180\n",
            "10/10 [==============================] - 0s 34ms/step - loss: 0.0156\n",
            "Epoch 24/180\n",
            "10/10 [==============================] - 0s 34ms/step - loss: 0.0149\n",
            "Epoch 25/180\n",
            "10/10 [==============================] - 0s 32ms/step - loss: 0.0206\n",
            "Epoch 26/180\n",
            "10/10 [==============================] - 0s 31ms/step - loss: 0.0159\n",
            "Epoch 27/180\n",
            "10/10 [==============================] - 0s 32ms/step - loss: 0.0170\n",
            "Epoch 28/180\n",
            "10/10 [==============================] - 0s 31ms/step - loss: 0.0172\n",
            "Epoch 29/180\n",
            "10/10 [==============================] - 0s 34ms/step - loss: 0.0169\n",
            "Epoch 30/180\n",
            "10/10 [==============================] - 0s 38ms/step - loss: 0.0244\n",
            "Epoch 31/180\n",
            "10/10 [==============================] - 0s 33ms/step - loss: 0.0219\n",
            "Epoch 32/180\n",
            "10/10 [==============================] - 0s 35ms/step - loss: 0.0197\n",
            "Epoch 33/180\n",
            "10/10 [==============================] - 0s 36ms/step - loss: 0.0164\n",
            "Epoch 34/180\n",
            "10/10 [==============================] - 0s 39ms/step - loss: 0.0215\n",
            "Epoch 35/180\n",
            "10/10 [==============================] - 0s 34ms/step - loss: 0.0183\n",
            "Epoch 36/180\n",
            "10/10 [==============================] - 0s 36ms/step - loss: 0.0177\n",
            "Epoch 37/180\n",
            "10/10 [==============================] - 0s 37ms/step - loss: 0.0167\n",
            "Epoch 38/180\n",
            "10/10 [==============================] - 0s 33ms/step - loss: 0.0158\n",
            "Epoch 39/180\n",
            "10/10 [==============================] - 0s 32ms/step - loss: 0.0163\n",
            "Epoch 40/180\n",
            "10/10 [==============================] - 0s 35ms/step - loss: 0.0161\n",
            "Epoch 41/180\n",
            "10/10 [==============================] - 0s 34ms/step - loss: 0.0178\n",
            "Epoch 42/180\n",
            "10/10 [==============================] - 0s 36ms/step - loss: 0.0160\n",
            "Epoch 43/180\n",
            "10/10 [==============================] - 0s 34ms/step - loss: 0.0187\n",
            "Epoch 44/180\n",
            "10/10 [==============================] - 0s 34ms/step - loss: 0.0174\n",
            "Epoch 45/180\n",
            "10/10 [==============================] - 0s 37ms/step - loss: 0.0169\n",
            "Epoch 46/180\n",
            "10/10 [==============================] - 0s 34ms/step - loss: 0.0188\n",
            "Epoch 47/180\n",
            "10/10 [==============================] - 0s 34ms/step - loss: 0.0175\n",
            "Epoch 48/180\n",
            "10/10 [==============================] - 0s 33ms/step - loss: 0.0191\n",
            "Epoch 49/180\n",
            "10/10 [==============================] - 0s 34ms/step - loss: 0.0182\n",
            "Epoch 50/180\n",
            "10/10 [==============================] - 0s 32ms/step - loss: 0.0184\n",
            "Epoch 51/180\n",
            "10/10 [==============================] - 0s 33ms/step - loss: 0.0161\n",
            "Epoch 52/180\n",
            "10/10 [==============================] - 0s 35ms/step - loss: 0.0166\n",
            "Epoch 53/180\n",
            "10/10 [==============================] - 0s 34ms/step - loss: 0.0207\n",
            "Epoch 54/180\n",
            "10/10 [==============================] - 0s 35ms/step - loss: 0.0180\n",
            "Epoch 55/180\n",
            "10/10 [==============================] - 0s 35ms/step - loss: 0.0172\n",
            "Epoch 56/180\n",
            "10/10 [==============================] - 0s 37ms/step - loss: 0.0164\n",
            "Epoch 57/180\n",
            "10/10 [==============================] - 0s 36ms/step - loss: 0.0175\n",
            "Epoch 58/180\n",
            "10/10 [==============================] - 0s 35ms/step - loss: 0.0160\n",
            "Epoch 59/180\n",
            "10/10 [==============================] - 0s 34ms/step - loss: 0.0212\n",
            "Epoch 60/180\n",
            "10/10 [==============================] - 0s 42ms/step - loss: 0.0170\n",
            "Epoch 61/180\n",
            "10/10 [==============================] - 0s 37ms/step - loss: 0.0182\n",
            "Epoch 62/180\n",
            "10/10 [==============================] - 0s 31ms/step - loss: 0.0171\n",
            "Epoch 63/180\n",
            "10/10 [==============================] - 0s 35ms/step - loss: 0.0153\n",
            "Epoch 64/180\n",
            "10/10 [==============================] - 0s 33ms/step - loss: 0.0162\n",
            "Epoch 65/180\n",
            "10/10 [==============================] - 0s 32ms/step - loss: 0.0139\n",
            "Epoch 66/180\n",
            "10/10 [==============================] - 0s 34ms/step - loss: 0.0188\n",
            "Epoch 67/180\n",
            "10/10 [==============================] - 0s 33ms/step - loss: 0.0180\n",
            "Epoch 68/180\n",
            "10/10 [==============================] - 0s 35ms/step - loss: 0.0179\n",
            "Epoch 69/180\n",
            "10/10 [==============================] - 0s 34ms/step - loss: 0.0161\n",
            "Epoch 70/180\n",
            "10/10 [==============================] - 0s 33ms/step - loss: 0.0152\n",
            "Epoch 71/180\n",
            "10/10 [==============================] - 0s 34ms/step - loss: 0.0207\n",
            "Epoch 72/180\n",
            "10/10 [==============================] - 0s 36ms/step - loss: 0.0179\n",
            "Epoch 73/180\n",
            "10/10 [==============================] - 0s 32ms/step - loss: 0.0177\n",
            "Epoch 74/180\n",
            "10/10 [==============================] - 0s 30ms/step - loss: 0.0135\n",
            "Epoch 75/180\n",
            "10/10 [==============================] - 0s 33ms/step - loss: 0.0170\n",
            "Epoch 76/180\n",
            "10/10 [==============================] - 0s 31ms/step - loss: 0.0184\n",
            "Epoch 77/180\n",
            "10/10 [==============================] - 0s 32ms/step - loss: 0.0168\n",
            "Epoch 78/180\n",
            "10/10 [==============================] - 0s 32ms/step - loss: 0.0201\n",
            "Epoch 79/180\n",
            "10/10 [==============================] - 0s 31ms/step - loss: 0.0147\n",
            "Epoch 80/180\n",
            "10/10 [==============================] - 0s 32ms/step - loss: 0.0150\n",
            "Epoch 81/180\n",
            "10/10 [==============================] - 0s 33ms/step - loss: 0.0163\n",
            "Epoch 82/180\n",
            "10/10 [==============================] - 0s 31ms/step - loss: 0.0147\n",
            "Epoch 83/180\n",
            "10/10 [==============================] - 0s 32ms/step - loss: 0.0156\n",
            "Epoch 84/180\n",
            "10/10 [==============================] - 0s 34ms/step - loss: 0.0161\n",
            "Epoch 85/180\n",
            "10/10 [==============================] - 0s 31ms/step - loss: 0.0163\n",
            "Epoch 86/180\n",
            "10/10 [==============================] - 0s 34ms/step - loss: 0.0165\n",
            "Epoch 87/180\n",
            "10/10 [==============================] - 0s 33ms/step - loss: 0.0168\n",
            "Epoch 88/180\n",
            "10/10 [==============================] - 0s 31ms/step - loss: 0.0167\n",
            "Epoch 89/180\n",
            "10/10 [==============================] - 0s 32ms/step - loss: 0.0167\n",
            "Epoch 90/180\n",
            "10/10 [==============================] - 0s 31ms/step - loss: 0.0199\n",
            "Epoch 91/180\n",
            "10/10 [==============================] - 0s 31ms/step - loss: 0.0171\n",
            "Epoch 92/180\n",
            "10/10 [==============================] - 0s 32ms/step - loss: 0.0153\n",
            "Epoch 93/180\n",
            "10/10 [==============================] - 0s 32ms/step - loss: 0.0152\n",
            "Epoch 94/180\n",
            "10/10 [==============================] - 0s 33ms/step - loss: 0.0174\n",
            "Epoch 95/180\n",
            "10/10 [==============================] - 0s 29ms/step - loss: 0.0169\n",
            "Epoch 96/180\n",
            "10/10 [==============================] - 0s 32ms/step - loss: 0.0196\n",
            "Epoch 97/180\n",
            "10/10 [==============================] - 0s 31ms/step - loss: 0.0164\n",
            "Epoch 98/180\n",
            "10/10 [==============================] - 0s 32ms/step - loss: 0.0171\n",
            "Epoch 99/180\n",
            "10/10 [==============================] - 0s 35ms/step - loss: 0.0151\n",
            "Epoch 100/180\n",
            "10/10 [==============================] - 0s 33ms/step - loss: 0.0160\n",
            "Epoch 101/180\n",
            "10/10 [==============================] - 0s 34ms/step - loss: 0.0144\n",
            "Epoch 102/180\n",
            "10/10 [==============================] - 0s 34ms/step - loss: 0.0149\n",
            "Epoch 103/180\n",
            "10/10 [==============================] - 0s 31ms/step - loss: 0.0156\n",
            "Epoch 104/180\n",
            "10/10 [==============================] - 0s 30ms/step - loss: 0.0174\n",
            "Epoch 105/180\n",
            "10/10 [==============================] - 0s 32ms/step - loss: 0.0158\n",
            "Epoch 106/180\n",
            "10/10 [==============================] - 0s 31ms/step - loss: 0.0213\n",
            "Epoch 107/180\n",
            "10/10 [==============================] - 0s 32ms/step - loss: 0.0174\n",
            "Epoch 108/180\n",
            "10/10 [==============================] - 0s 34ms/step - loss: 0.0165\n",
            "Epoch 109/180\n",
            "10/10 [==============================] - 0s 30ms/step - loss: 0.0143\n",
            "Epoch 110/180\n",
            "10/10 [==============================] - 0s 33ms/step - loss: 0.0140\n",
            "Epoch 111/180\n",
            "10/10 [==============================] - 0s 33ms/step - loss: 0.0171\n",
            "Epoch 112/180\n",
            "10/10 [==============================] - 0s 30ms/step - loss: 0.0148\n",
            "Epoch 113/180\n",
            "10/10 [==============================] - 0s 30ms/step - loss: 0.0138\n",
            "Epoch 114/180\n",
            "10/10 [==============================] - 0s 30ms/step - loss: 0.0159\n",
            "Epoch 115/180\n",
            "10/10 [==============================] - 0s 31ms/step - loss: 0.0150\n",
            "Epoch 116/180\n",
            "10/10 [==============================] - 0s 32ms/step - loss: 0.0199\n",
            "Epoch 117/180\n",
            "10/10 [==============================] - 0s 33ms/step - loss: 0.0176\n",
            "Epoch 118/180\n",
            "10/10 [==============================] - 0s 30ms/step - loss: 0.0155\n",
            "Epoch 119/180\n",
            "10/10 [==============================] - 0s 32ms/step - loss: 0.0157\n",
            "Epoch 120/180\n",
            "10/10 [==============================] - 0s 33ms/step - loss: 0.0175\n",
            "Epoch 121/180\n",
            "10/10 [==============================] - 0s 30ms/step - loss: 0.0161\n",
            "Epoch 122/180\n",
            "10/10 [==============================] - 0s 34ms/step - loss: 0.0165\n",
            "Epoch 123/180\n",
            "10/10 [==============================] - 0s 32ms/step - loss: 0.0167\n",
            "Epoch 124/180\n",
            "10/10 [==============================] - 0s 32ms/step - loss: 0.0146\n",
            "Epoch 125/180\n",
            "10/10 [==============================] - 0s 31ms/step - loss: 0.0155\n",
            "Epoch 126/180\n",
            "10/10 [==============================] - 0s 32ms/step - loss: 0.0176\n",
            "Epoch 127/180\n",
            "10/10 [==============================] - 0s 30ms/step - loss: 0.0184\n",
            "Epoch 128/180\n",
            "10/10 [==============================] - 0s 31ms/step - loss: 0.0143\n",
            "Epoch 129/180\n",
            "10/10 [==============================] - 0s 34ms/step - loss: 0.0146\n",
            "Epoch 130/180\n",
            "10/10 [==============================] - 0s 33ms/step - loss: 0.0174\n",
            "Epoch 131/180\n",
            "10/10 [==============================] - 0s 32ms/step - loss: 0.0161\n",
            "Epoch 132/180\n",
            "10/10 [==============================] - 0s 34ms/step - loss: 0.0148\n",
            "Epoch 133/180\n",
            "10/10 [==============================] - 0s 30ms/step - loss: 0.0182\n",
            "Epoch 134/180\n",
            "10/10 [==============================] - 0s 30ms/step - loss: 0.0189\n",
            "Epoch 135/180\n",
            "10/10 [==============================] - 0s 31ms/step - loss: 0.0176\n",
            "Epoch 136/180\n",
            "10/10 [==============================] - 0s 31ms/step - loss: 0.0179\n",
            "Epoch 137/180\n",
            "10/10 [==============================] - 0s 31ms/step - loss: 0.0153\n",
            "Epoch 138/180\n",
            "10/10 [==============================] - 0s 32ms/step - loss: 0.0169\n",
            "Epoch 139/180\n",
            "10/10 [==============================] - 0s 34ms/step - loss: 0.0153\n",
            "Epoch 140/180\n",
            "10/10 [==============================] - 0s 31ms/step - loss: 0.0129\n",
            "Epoch 141/180\n",
            "10/10 [==============================] - 0s 31ms/step - loss: 0.0148\n",
            "Epoch 142/180\n",
            "10/10 [==============================] - 0s 35ms/step - loss: 0.0159\n",
            "Epoch 143/180\n",
            "10/10 [==============================] - 0s 30ms/step - loss: 0.0168\n",
            "Epoch 144/180\n",
            "10/10 [==============================] - 0s 34ms/step - loss: 0.0152\n",
            "Epoch 145/180\n",
            "10/10 [==============================] - 0s 32ms/step - loss: 0.0134\n",
            "Epoch 146/180\n",
            "10/10 [==============================] - 0s 34ms/step - loss: 0.0144\n",
            "Epoch 147/180\n",
            "10/10 [==============================] - 0s 37ms/step - loss: 0.0138\n",
            "Epoch 148/180\n",
            "10/10 [==============================] - 0s 35ms/step - loss: 0.0144\n",
            "Epoch 149/180\n",
            "10/10 [==============================] - 0s 36ms/step - loss: 0.0202\n",
            "Epoch 150/180\n",
            "10/10 [==============================] - 0s 35ms/step - loss: 0.0215\n",
            "Epoch 151/180\n",
            "10/10 [==============================] - 0s 39ms/step - loss: 0.0191\n",
            "Epoch 152/180\n",
            "10/10 [==============================] - 0s 37ms/step - loss: 0.0191\n",
            "Epoch 153/180\n",
            "10/10 [==============================] - 0s 35ms/step - loss: 0.0174\n",
            "Epoch 154/180\n",
            "10/10 [==============================] - 0s 33ms/step - loss: 0.0161\n",
            "Epoch 155/180\n",
            "10/10 [==============================] - 0s 31ms/step - loss: 0.0171\n",
            "Epoch 156/180\n",
            "10/10 [==============================] - 0s 32ms/step - loss: 0.0145\n",
            "Epoch 157/180\n",
            "10/10 [==============================] - 0s 34ms/step - loss: 0.0150\n",
            "Epoch 158/180\n",
            "10/10 [==============================] - 0s 32ms/step - loss: 0.0151\n",
            "Epoch 159/180\n",
            "10/10 [==============================] - 0s 33ms/step - loss: 0.0182\n",
            "Epoch 160/180\n",
            "10/10 [==============================] - 0s 33ms/step - loss: 0.0212\n",
            "Epoch 161/180\n",
            "10/10 [==============================] - 0s 30ms/step - loss: 0.0161\n",
            "Epoch 162/180\n",
            "10/10 [==============================] - 0s 32ms/step - loss: 0.0153\n",
            "Epoch 163/180\n",
            "10/10 [==============================] - 0s 32ms/step - loss: 0.0165\n",
            "Epoch 164/180\n",
            "10/10 [==============================] - 0s 30ms/step - loss: 0.0179\n",
            "Epoch 165/180\n",
            "10/10 [==============================] - 0s 33ms/step - loss: 0.0165\n",
            "Epoch 166/180\n",
            "10/10 [==============================] - 0s 35ms/step - loss: 0.0157\n",
            "Epoch 167/180\n",
            "10/10 [==============================] - 0s 32ms/step - loss: 0.0151\n",
            "Epoch 168/180\n",
            "10/10 [==============================] - 0s 35ms/step - loss: 0.0131\n",
            "Epoch 169/180\n",
            "10/10 [==============================] - 0s 35ms/step - loss: 0.0136\n",
            "Epoch 170/180\n",
            "10/10 [==============================] - 0s 35ms/step - loss: 0.0151\n",
            "Epoch 171/180\n",
            "10/10 [==============================] - 0s 33ms/step - loss: 0.0148\n",
            "Epoch 172/180\n",
            "10/10 [==============================] - 0s 35ms/step - loss: 0.0179\n",
            "Epoch 173/180\n",
            "10/10 [==============================] - 0s 32ms/step - loss: 0.0149\n",
            "Epoch 174/180\n",
            "10/10 [==============================] - 0s 31ms/step - loss: 0.0161\n",
            "Epoch 175/180\n",
            "10/10 [==============================] - 0s 31ms/step - loss: 0.0139\n",
            "Epoch 176/180\n",
            "10/10 [==============================] - 0s 31ms/step - loss: 0.0129\n",
            "Epoch 177/180\n",
            "10/10 [==============================] - 0s 31ms/step - loss: 0.0149\n",
            "Epoch 178/180\n",
            "10/10 [==============================] - 0s 33ms/step - loss: 0.0183\n",
            "Epoch 179/180\n",
            "10/10 [==============================] - 0s 32ms/step - loss: 0.0146\n",
            "Epoch 180/180\n",
            "10/10 [==============================] - 0s 33ms/step - loss: 0.0155\n"
          ],
          "name": "stdout"
        }
      ]
    },
    {
      "cell_type": "code",
      "metadata": {
        "colab": {
          "base_uri": "https://localhost:8080/",
          "height": 295
        },
        "id": "8Eth8aPaQVZc",
        "outputId": "fd7b3598-a479-42c2-d9a9-0b6e040a7edd"
      },
      "source": [
        "from matplotlib import pyplot\n",
        "pyplot.plot(history.history['loss'])\n",
        "#pyplot.plot(history.history['val_loss'])\n",
        "pyplot.title('model train vs validation loss')\n",
        "pyplot.ylabel('loss')\n",
        "pyplot.xlabel('epoch')\n",
        "pyplot.legend(['train', 'validation'], loc='upper right')\n",
        "pyplot.show()"
      ],
      "execution_count": null,
      "outputs": [
        {
          "output_type": "display_data",
          "data": {
            "image/png": "[encoded data removed]",
            "text/plain": [
              "<Figure size 432x288 with 1 Axes>"
            ]
          },
          "metadata": {
            "needs_background": "light"
          }
        }
      ]
    },
    {
      "cell_type": "code",
      "metadata": {
        "id": "Dxv4QunuwaC2"
      },
      "source": [
        "pred_list=[]\n",
        "\n",
        "batch = train[-n_input:].reshape((1,n_input,n_features))\n",
        "\n",
        "for i in range(n_input):\n",
        "    pred_list.append(model.predict(batch)[0])\n",
        "    batch=np.append(batch[:,1:,:],[[pred_list[i]]],axis=1)"
      ],
      "execution_count": null,
      "outputs": []
    },
    {
      "cell_type": "code",
      "metadata": {
        "id": "y5bfenvgxEU4"
      },
      "source": [
        "df_predict=pd.DataFrame(Scaler.inverse_transform(pred_list),index=df2[-n_input:].index, columns=['Predictions'])"
      ],
      "execution_count": null,
      "outputs": []
    },
    {
      "cell_type": "code",
      "metadata": {
        "id": "hAmGJRTEx2d-"
      },
      "source": [
        "df_test= pd.concat([df2, df_predict],axis=1)"
      ],
      "execution_count": null,
      "outputs": []
    },
    {
      "cell_type": "code",
      "metadata": {
        "colab": {
          "base_uri": "https://localhost:8080/",
          "height": 638
        },
        "id": "f-ke5O4DyAM2",
        "outputId": "2d58d133-c3a6-4985-c27d-0e9b5a907c7c"
      },
      "source": [
        "df_test.tail(18)"
      ],
      "execution_count": null,
      "outputs": [
        {
          "output_type": "execute_result",
          "data": {
            "text/html": [
              "<div>\n",
              "<style scoped>\n",
              "    .dataframe tbody tr th:only-of-type {\n",
              "        vertical-align: middle;\n",
              "    }\n",
              "\n",
              "    .dataframe tbody tr th {\n",
              "        vertical-align: top;\n",
              "    }\n",
              "\n",
              "    .dataframe thead th {\n",
              "        text-align: right;\n",
              "    }\n",
              "</style>\n",
              "<table border=\"1\" class=\"dataframe\">\n",
              "  <thead>\n",
              "    <tr style=\"text-align: right;\">\n",
              "      <th></th>\n",
              "      <th>Time_Insp_finalizado_minutos</th>\n",
              "      <th>Predictions</th>\n",
              "    </tr>\n",
              "    <tr>\n",
              "      <th>fecha</th>\n",
              "      <th></th>\n",
              "      <th></th>\n",
              "    </tr>\n",
              "  </thead>\n",
              "  <tbody>\n",
              "    <tr>\n",
              "      <th>2020-07-14</th>\n",
              "      <td>23338.800001</td>\n",
              "      <td>NaN</td>\n",
              "    </tr>\n",
              "    <tr>\n",
              "      <th>2020-07-15</th>\n",
              "      <td>25149.583334</td>\n",
              "      <td>21896.969468</td>\n",
              "    </tr>\n",
              "    <tr>\n",
              "      <th>2020-07-16</th>\n",
              "      <td>25805.666668</td>\n",
              "      <td>20794.316205</td>\n",
              "    </tr>\n",
              "    <tr>\n",
              "      <th>2020-07-17</th>\n",
              "      <td>27749.416669</td>\n",
              "      <td>21030.314116</td>\n",
              "    </tr>\n",
              "    <tr>\n",
              "      <th>2020-07-18</th>\n",
              "      <td>26013.499998</td>\n",
              "      <td>20426.619445</td>\n",
              "    </tr>\n",
              "    <tr>\n",
              "      <th>2020-07-19</th>\n",
              "      <td>23395.100004</td>\n",
              "      <td>21222.456876</td>\n",
              "    </tr>\n",
              "    <tr>\n",
              "      <th>2020-07-20</th>\n",
              "      <td>24804.199998</td>\n",
              "      <td>22551.932020</td>\n",
              "    </tr>\n",
              "    <tr>\n",
              "      <th>2020-07-21</th>\n",
              "      <td>32394.616667</td>\n",
              "      <td>23627.985846</td>\n",
              "    </tr>\n",
              "    <tr>\n",
              "      <th>2020-07-22</th>\n",
              "      <td>32218.033335</td>\n",
              "      <td>24872.240651</td>\n",
              "    </tr>\n",
              "    <tr>\n",
              "      <th>2020-07-23</th>\n",
              "      <td>37401.083335</td>\n",
              "      <td>24346.108404</td>\n",
              "    </tr>\n",
              "    <tr>\n",
              "      <th>2020-07-24</th>\n",
              "      <td>45224.516663</td>\n",
              "      <td>22694.176379</td>\n",
              "    </tr>\n",
              "    <tr>\n",
              "      <th>2020-07-25</th>\n",
              "      <td>31123.299999</td>\n",
              "      <td>20810.578474</td>\n",
              "    </tr>\n",
              "    <tr>\n",
              "      <th>2020-07-26</th>\n",
              "      <td>25687.999999</td>\n",
              "      <td>22010.764701</td>\n",
              "    </tr>\n",
              "    <tr>\n",
              "      <th>2020-07-27</th>\n",
              "      <td>22284.949999</td>\n",
              "      <td>24168.462072</td>\n",
              "    </tr>\n",
              "    <tr>\n",
              "      <th>2020-07-28</th>\n",
              "      <td>29122.549999</td>\n",
              "      <td>23741.986882</td>\n",
              "    </tr>\n",
              "    <tr>\n",
              "      <th>2020-07-29</th>\n",
              "      <td>32512.849998</td>\n",
              "      <td>23448.987817</td>\n",
              "    </tr>\n",
              "    <tr>\n",
              "      <th>2020-07-30</th>\n",
              "      <td>34889.449998</td>\n",
              "      <td>22834.825128</td>\n",
              "    </tr>\n",
              "    <tr>\n",
              "      <th>2020-07-31</th>\n",
              "      <td>35403.966666</td>\n",
              "      <td>22809.407154</td>\n",
              "    </tr>\n",
              "  </tbody>\n",
              "</table>\n",
              "</div>"
            ],
            "text/plain": [
              "            Time_Insp_finalizado_minutos   Predictions\n",
              "fecha                                                 \n",
              "2020-07-14                  23338.800001           NaN\n",
              "2020-07-15                  25149.583334  21896.969468\n",
              "2020-07-16                  25805.666668  20794.316205\n",
              "2020-07-17                  27749.416669  21030.314116\n",
              "2020-07-18                  26013.499998  20426.619445\n",
              "2020-07-19                  23395.100004  21222.456876\n",
              "2020-07-20                  24804.199998  22551.932020\n",
              "2020-07-21                  32394.616667  23627.985846\n",
              "2020-07-22                  32218.033335  24872.240651\n",
              "2020-07-23                  37401.083335  24346.108404\n",
              "2020-07-24                  45224.516663  22694.176379\n",
              "2020-07-25                  31123.299999  20810.578474\n",
              "2020-07-26                  25687.999999  22010.764701\n",
              "2020-07-27                  22284.949999  24168.462072\n",
              "2020-07-28                  29122.549999  23741.986882\n",
              "2020-07-29                  32512.849998  23448.987817\n",
              "2020-07-30                  34889.449998  22834.825128\n",
              "2020-07-31                  35403.966666  22809.407154"
            ]
          },
          "metadata": {},
          "execution_count": 59
        }
      ]
    },
    {
      "cell_type": "code",
      "metadata": {
        "colab": {
          "base_uri": "https://localhost:8080/",
          "height": 320
        },
        "id": "CDwS6uJAyJqx",
        "outputId": "fba6db40-db29-4e77-b73a-5f9936d35edc"
      },
      "source": [
        "plt.figure(figsize=(12,5))\n",
        "plt.plot(df_test.index, df_test['Time_Insp_finalizado_minutos'])\n",
        "plt.plot (df_test.index, df_test['Predictions'],color='r')\n",
        "plt.show()"
      ],
      "execution_count": null,
      "outputs": [
        {
          "output_type": "display_data",
          "data": {
            "image/png": "[encoded data removed]",
            "text/plain": [
              "<Figure size 864x360 with 1 Axes>"
            ]
          },
          "metadata": {
            "needs_background": "light"
          }
        }
      ]
    },
    {
      "cell_type": "code",
      "metadata": {
        "colab": {
          "base_uri": "https://localhost:8080/"
        },
        "id": "AEYo5fIEzSI7",
        "outputId": "74cce1e8-97bc-42bc-e74c-11fde3ce4c52"
      },
      "source": [
        "import math\n",
        "from sklearn.metrics import mean_squared_error\n",
        "mse=mean_squared_error(df_test['Time_Insp_finalizado_minutos'][-17:],df_test['Predictions'][-17:])\n",
        "rmse=math.sqrt(mse)\n",
        "print(\"rmse\",rmse)"
      ],
      "execution_count": null,
      "outputs": [
        {
          "output_type": "stream",
          "text": [
            "rmse 9296.336256438739\n"
          ],
          "name": "stdout"
        }
      ]
    },
    {
      "cell_type": "code",
      "metadata": {
        "colab": {
          "base_uri": "https://localhost:8080/"
        },
        "id": "Spn25fpjzSTS",
        "outputId": "5e3ee1f5-c4e7-4c76-b950-4ea19b105332"
      },
      "source": [
        "import math\n",
        "from sklearn.metrics import mean_squared_error\n",
        "mse=mean_squared_error(df_test['Time_Insp_finalizado_minutos'][-17:],df_test['Predictions'][-17:])\n",
        "rmse=math.sqrt(mse)\n",
        "print(\"rmse\",rmse)"
      ],
      "execution_count": null,
      "outputs": [
        {
          "output_type": "stream",
          "text": [
            "rmse 9296.336256438739\n"
          ],
          "name": "stdout"
        }
      ]
    },
    {
      "cell_type": "code",
      "metadata": {
        "colab": {
          "base_uri": "https://localhost:8080/"
        },
        "id": "opde0R801S3x",
        "outputId": "9f60bf6c-ea94-47d9-8875-8a4dd2989aa9"
      },
      "source": [
        "pred_list"
      ],
      "execution_count": null,
      "outputs": [
        {
          "output_type": "execute_result",
          "data": {
            "text/plain": [
              "[array([0.8440959], dtype=float32),\n",
              " array([0.7923612], dtype=float32),\n",
              " array([0.80343384], dtype=float32),\n",
              " array([0.77510947], dtype=float32),\n",
              " array([0.81244886], dtype=float32),\n",
              " array([0.87482566], dtype=float32),\n",
              " array([0.92531234], dtype=float32),\n",
              " array([0.98369074], dtype=float32),\n",
              " array([0.9590055], dtype=float32),\n",
              " array([0.8814995], dtype=float32),\n",
              " array([0.7931242], dtype=float32),\n",
              " array([0.849435], dtype=float32),\n",
              " array([0.9506706], dtype=float32),\n",
              " array([0.9306611], dtype=float32),\n",
              " array([0.91691405], dtype=float32),\n",
              " array([0.88809854], dtype=float32),\n",
              " array([0.88690597], dtype=float32)]"
            ]
          },
          "metadata": {},
          "execution_count": 63
        }
      ]
    },
    {
      "cell_type": "code",
      "metadata": {
        "colab": {
          "base_uri": "https://localhost:8080/"
        },
        "id": "cYT1EEJhyuXt",
        "outputId": "e5738fee-f18c-4b67-ed49-28077d78a820"
      },
      "source": [
        "train= df2\n",
        "Scaler.fit(train)\n",
        "train=Scaler.transform(train)\n",
        "\n",
        "n_input = 17\n",
        "n_features = 1\n",
        "generator = TimeseriesGenerator(train, train, length= n_input, batch_size=6)\n",
        "\n",
        "model.fit_generator(generator,epochs=100)\n",
        "\n",
        "pred_list=[]\n",
        "\n",
        "batch = train[-n_input:].reshape((1,n_input,n_features))\n",
        "\n",
        "for i in range(n_input):\n",
        "  pred_list.append(model.predict(batch)[0])\n",
        "  batch=np.append(batch[:,1:,:],[[pred_list[i]]],axis=1)\n",
        "\n",
        "    #fiting model with given training dataset\n",
        "    #history_data=model.fit(xtrain, ytrain, batch_size=50, epochs=200, verbose=2, validation_split=0.2)"
      ],
      "execution_count": null,
      "outputs": [
        {
          "output_type": "stream",
          "text": [
            "Epoch 1/100\n",
            "13/13 [==============================] - 1s 57ms/step - loss: 0.0161\n",
            "Epoch 2/100\n",
            "13/13 [==============================] - 0s 31ms/step - loss: 0.0094\n",
            "Epoch 3/100\n",
            "13/13 [==============================] - 0s 30ms/step - loss: 0.0111\n",
            "Epoch 4/100\n",
            "13/13 [==============================] - 0s 28ms/step - loss: 0.0089\n",
            "Epoch 5/100\n",
            "13/13 [==============================] - 0s 29ms/step - loss: 0.0077\n",
            "Epoch 6/100\n",
            "13/13 [==============================] - 0s 30ms/step - loss: 0.0077\n",
            "Epoch 7/100\n",
            "13/13 [==============================] - 0s 28ms/step - loss: 0.0074\n",
            "Epoch 8/100\n",
            "13/13 [==============================] - 0s 29ms/step - loss: 0.0079\n",
            "Epoch 9/100\n",
            "13/13 [==============================] - 0s 31ms/step - loss: 0.0080\n",
            "Epoch 10/100\n",
            "13/13 [==============================] - 0s 29ms/step - loss: 0.0085\n",
            "Epoch 11/100\n",
            "13/13 [==============================] - 0s 30ms/step - loss: 0.0076\n",
            "Epoch 12/100\n",
            "13/13 [==============================] - 0s 32ms/step - loss: 0.0072\n",
            "Epoch 13/100\n",
            "13/13 [==============================] - 0s 33ms/step - loss: 0.0072\n",
            "Epoch 14/100\n",
            "13/13 [==============================] - 0s 31ms/step - loss: 0.0073\n",
            "Epoch 15/100\n",
            "13/13 [==============================] - 0s 31ms/step - loss: 0.0077\n",
            "Epoch 16/100\n",
            "13/13 [==============================] - 0s 32ms/step - loss: 0.0068\n",
            "Epoch 17/100\n",
            "13/13 [==============================] - 0s 32ms/step - loss: 0.0067\n",
            "Epoch 18/100\n",
            "13/13 [==============================] - 0s 31ms/step - loss: 0.0057\n",
            "Epoch 19/100\n",
            "13/13 [==============================] - 0s 28ms/step - loss: 0.0071\n",
            "Epoch 20/100\n",
            "13/13 [==============================] - 0s 31ms/step - loss: 0.0059\n",
            "Epoch 21/100\n",
            "13/13 [==============================] - 0s 33ms/step - loss: 0.0061\n",
            "Epoch 22/100\n",
            "13/13 [==============================] - 0s 32ms/step - loss: 0.0055\n",
            "Epoch 23/100\n",
            "13/13 [==============================] - 0s 33ms/step - loss: 0.0064\n",
            "Epoch 24/100\n",
            "13/13 [==============================] - 0s 30ms/step - loss: 0.0072\n",
            "Epoch 25/100\n",
            "13/13 [==============================] - 0s 29ms/step - loss: 0.0069\n",
            "Epoch 26/100\n",
            "13/13 [==============================] - 0s 30ms/step - loss: 0.0057\n",
            "Epoch 27/100\n",
            "13/13 [==============================] - 0s 30ms/step - loss: 0.0066\n",
            "Epoch 28/100\n",
            "13/13 [==============================] - 0s 29ms/step - loss: 0.0061\n",
            "Epoch 29/100\n",
            "13/13 [==============================] - 0s 32ms/step - loss: 0.0071\n",
            "Epoch 30/100\n",
            "13/13 [==============================] - 0s 33ms/step - loss: 0.0061\n",
            "Epoch 31/100\n",
            "13/13 [==============================] - 0s 30ms/step - loss: 0.0071\n",
            "Epoch 32/100\n",
            "13/13 [==============================] - 0s 33ms/step - loss: 0.0062\n",
            "Epoch 33/100\n",
            "13/13 [==============================] - 0s 29ms/step - loss: 0.0060\n",
            "Epoch 34/100\n",
            "13/13 [==============================] - 0s 28ms/step - loss: 0.0069\n",
            "Epoch 35/100\n",
            "13/13 [==============================] - 0s 31ms/step - loss: 0.0060\n",
            "Epoch 36/100\n",
            "13/13 [==============================] - 0s 31ms/step - loss: 0.0064\n",
            "Epoch 37/100\n",
            "13/13 [==============================] - 0s 32ms/step - loss: 0.0062\n",
            "Epoch 38/100\n",
            "13/13 [==============================] - 0s 30ms/step - loss: 0.0061\n",
            "Epoch 39/100\n",
            "13/13 [==============================] - 0s 32ms/step - loss: 0.0057\n",
            "Epoch 40/100\n",
            "13/13 [==============================] - 0s 31ms/step - loss: 0.0068\n",
            "Epoch 41/100\n",
            "13/13 [==============================] - 0s 33ms/step - loss: 0.0064\n",
            "Epoch 42/100\n",
            "13/13 [==============================] - 0s 29ms/step - loss: 0.0074\n",
            "Epoch 43/100\n",
            "13/13 [==============================] - 0s 30ms/step - loss: 0.0069\n",
            "Epoch 44/100\n",
            "13/13 [==============================] - 0s 31ms/step - loss: 0.0061\n",
            "Epoch 45/100\n",
            "13/13 [==============================] - 0s 31ms/step - loss: 0.0049\n",
            "Epoch 46/100\n",
            "13/13 [==============================] - 0s 31ms/step - loss: 0.0063\n",
            "Epoch 47/100\n",
            "13/13 [==============================] - 0s 30ms/step - loss: 0.0069\n",
            "Epoch 48/100\n",
            "13/13 [==============================] - 0s 31ms/step - loss: 0.0059\n",
            "Epoch 49/100\n",
            "13/13 [==============================] - 0s 31ms/step - loss: 0.0060\n",
            "Epoch 50/100\n",
            "13/13 [==============================] - 0s 32ms/step - loss: 0.0065\n",
            "Epoch 51/100\n",
            "13/13 [==============================] - 0s 33ms/step - loss: 0.0067\n",
            "Epoch 52/100\n",
            "13/13 [==============================] - 0s 29ms/step - loss: 0.0048\n",
            "Epoch 53/100\n",
            "13/13 [==============================] - 0s 32ms/step - loss: 0.0061\n",
            "Epoch 54/100\n",
            "13/13 [==============================] - 0s 32ms/step - loss: 0.0057\n",
            "Epoch 55/100\n",
            "13/13 [==============================] - 0s 31ms/step - loss: 0.0058\n",
            "Epoch 56/100\n",
            "13/13 [==============================] - 0s 31ms/step - loss: 0.0062\n",
            "Epoch 57/100\n",
            "13/13 [==============================] - 0s 30ms/step - loss: 0.0066\n",
            "Epoch 58/100\n",
            "13/13 [==============================] - 0s 31ms/step - loss: 0.0054\n",
            "Epoch 59/100\n",
            "13/13 [==============================] - 0s 30ms/step - loss: 0.0066\n",
            "Epoch 60/100\n",
            "13/13 [==============================] - 0s 30ms/step - loss: 0.0061\n",
            "Epoch 61/100\n",
            "13/13 [==============================] - 0s 31ms/step - loss: 0.0060\n",
            "Epoch 62/100\n",
            "13/13 [==============================] - 0s 31ms/step - loss: 0.0056\n",
            "Epoch 63/100\n",
            "13/13 [==============================] - 0s 31ms/step - loss: 0.0061\n",
            "Epoch 64/100\n",
            "13/13 [==============================] - 0s 32ms/step - loss: 0.0067\n",
            "Epoch 65/100\n",
            "13/13 [==============================] - 0s 31ms/step - loss: 0.0068\n",
            "Epoch 66/100\n",
            "13/13 [==============================] - 0s 33ms/step - loss: 0.0066\n",
            "Epoch 67/100\n",
            "13/13 [==============================] - 0s 31ms/step - loss: 0.0074\n",
            "Epoch 68/100\n",
            "13/13 [==============================] - 0s 29ms/step - loss: 0.0066\n",
            "Epoch 69/100\n",
            "13/13 [==============================] - 0s 31ms/step - loss: 0.0055\n",
            "Epoch 70/100\n",
            "13/13 [==============================] - 0s 33ms/step - loss: 0.0066\n",
            "Epoch 71/100\n",
            "13/13 [==============================] - 0s 30ms/step - loss: 0.0054\n",
            "Epoch 72/100\n",
            "13/13 [==============================] - 0s 31ms/step - loss: 0.0051\n",
            "Epoch 73/100\n",
            "13/13 [==============================] - 0s 32ms/step - loss: 0.0067\n",
            "Epoch 74/100\n",
            "13/13 [==============================] - 0s 30ms/step - loss: 0.0066\n",
            "Epoch 75/100\n",
            "13/13 [==============================] - 0s 32ms/step - loss: 0.0053\n",
            "Epoch 76/100\n",
            "13/13 [==============================] - 0s 33ms/step - loss: 0.0056\n",
            "Epoch 77/100\n",
            "13/13 [==============================] - 0s 32ms/step - loss: 0.0065\n",
            "Epoch 78/100\n",
            "13/13 [==============================] - 0s 33ms/step - loss: 0.0066\n",
            "Epoch 79/100\n",
            "13/13 [==============================] - 0s 29ms/step - loss: 0.0056\n",
            "Epoch 80/100\n",
            "13/13 [==============================] - 0s 31ms/step - loss: 0.0059\n",
            "Epoch 81/100\n",
            "13/13 [==============================] - 0s 32ms/step - loss: 0.0058\n",
            "Epoch 82/100\n",
            "13/13 [==============================] - 0s 31ms/step - loss: 0.0063\n",
            "Epoch 83/100\n",
            "13/13 [==============================] - 0s 30ms/step - loss: 0.0063\n",
            "Epoch 84/100\n",
            "13/13 [==============================] - 0s 30ms/step - loss: 0.0064\n",
            "Epoch 85/100\n",
            "13/13 [==============================] - 0s 31ms/step - loss: 0.0060\n",
            "Epoch 86/100\n",
            "13/13 [==============================] - 0s 28ms/step - loss: 0.0058\n",
            "Epoch 87/100\n",
            "13/13 [==============================] - 0s 30ms/step - loss: 0.0057\n",
            "Epoch 88/100\n",
            "13/13 [==============================] - 0s 30ms/step - loss: 0.0054\n",
            "Epoch 89/100\n",
            "13/13 [==============================] - 0s 31ms/step - loss: 0.0051\n",
            "Epoch 90/100\n",
            "13/13 [==============================] - 0s 32ms/step - loss: 0.0055\n",
            "Epoch 91/100\n",
            "13/13 [==============================] - 0s 31ms/step - loss: 0.0050\n",
            "Epoch 92/100\n",
            "13/13 [==============================] - 0s 32ms/step - loss: 0.0054\n",
            "Epoch 93/100\n",
            "13/13 [==============================] - 0s 31ms/step - loss: 0.0069\n",
            "Epoch 94/100\n",
            "13/13 [==============================] - 0s 30ms/step - loss: 0.0060\n",
            "Epoch 95/100\n",
            "13/13 [==============================] - 0s 30ms/step - loss: 0.0056\n",
            "Epoch 96/100\n",
            "13/13 [==============================] - 0s 32ms/step - loss: 0.0069\n",
            "Epoch 97/100\n",
            "13/13 [==============================] - 0s 31ms/step - loss: 0.0063\n",
            "Epoch 98/100\n",
            "13/13 [==============================] - 0s 31ms/step - loss: 0.0059\n",
            "Epoch 99/100\n",
            "13/13 [==============================] - 0s 33ms/step - loss: 0.0053\n",
            "Epoch 100/100\n",
            "13/13 [==============================] - 0s 31ms/step - loss: 0.0053\n"
          ],
          "name": "stdout"
        }
      ]
    },
    {
      "cell_type": "code",
      "metadata": {
        "id": "iZbc77YL3kSP"
      },
      "source": [
        "from pandas.tseries.offsets import DateOffset"
      ],
      "execution_count": null,
      "outputs": []
    },
    {
      "cell_type": "code",
      "metadata": {
        "colab": {
          "base_uri": "https://localhost:8080/",
          "height": 235
        },
        "id": "LlBcTkcz3vMC",
        "outputId": "d51ab1bb-0f38-4fb7-e6df-78ddb3aa87ad"
      },
      "source": [
        "df2.tail()"
      ],
      "execution_count": null,
      "outputs": [
        {
          "output_type": "execute_result",
          "data": {
            "text/html": [
              "<div>\n",
              "<style scoped>\n",
              "    .dataframe tbody tr th:only-of-type {\n",
              "        vertical-align: middle;\n",
              "    }\n",
              "\n",
              "    .dataframe tbody tr th {\n",
              "        vertical-align: top;\n",
              "    }\n",
              "\n",
              "    .dataframe thead th {\n",
              "        text-align: right;\n",
              "    }\n",
              "</style>\n",
              "<table border=\"1\" class=\"dataframe\">\n",
              "  <thead>\n",
              "    <tr style=\"text-align: right;\">\n",
              "      <th></th>\n",
              "      <th>Time_Insp_finalizado_minutos</th>\n",
              "    </tr>\n",
              "    <tr>\n",
              "      <th>fecha</th>\n",
              "      <th></th>\n",
              "    </tr>\n",
              "  </thead>\n",
              "  <tbody>\n",
              "    <tr>\n",
              "      <th>2020-07-27</th>\n",
              "      <td>22284.949999</td>\n",
              "    </tr>\n",
              "    <tr>\n",
              "      <th>2020-07-28</th>\n",
              "      <td>29122.549999</td>\n",
              "    </tr>\n",
              "    <tr>\n",
              "      <th>2020-07-29</th>\n",
              "      <td>32512.849998</td>\n",
              "    </tr>\n",
              "    <tr>\n",
              "      <th>2020-07-30</th>\n",
              "      <td>34889.449998</td>\n",
              "    </tr>\n",
              "    <tr>\n",
              "      <th>2020-07-31</th>\n",
              "      <td>35403.966666</td>\n",
              "    </tr>\n",
              "  </tbody>\n",
              "</table>\n",
              "</div>"
            ],
            "text/plain": [
              "            Time_Insp_finalizado_minutos\n",
              "fecha                                   \n",
              "2020-07-27                  22284.949999\n",
              "2020-07-28                  29122.549999\n",
              "2020-07-29                  32512.849998\n",
              "2020-07-30                  34889.449998\n",
              "2020-07-31                  35403.966666"
            ]
          },
          "metadata": {
            "tags": []
          },
          "execution_count": 194
        }
      ]
    },
    {
      "cell_type": "code",
      "metadata": {
        "colab": {
          "base_uri": "https://localhost:8080/"
        },
        "id": "X_kBHL_F3lTr",
        "outputId": "fc5efc46-502a-43ca-b18a-4f63f6cfa27e"
      },
      "source": [
        "[df2.index[-1] + DateOffset(days=x) for x in range(0,18)]"
      ],
      "execution_count": null,
      "outputs": [
        {
          "output_type": "execute_result",
          "data": {
            "text/plain": [
              "[Timestamp('2020-07-31 00:00:00'),\n",
              " Timestamp('2020-08-01 00:00:00'),\n",
              " Timestamp('2020-08-02 00:00:00'),\n",
              " Timestamp('2020-08-03 00:00:00'),\n",
              " Timestamp('2020-08-04 00:00:00'),\n",
              " Timestamp('2020-08-05 00:00:00'),\n",
              " Timestamp('2020-08-06 00:00:00'),\n",
              " Timestamp('2020-08-07 00:00:00'),\n",
              " Timestamp('2020-08-08 00:00:00'),\n",
              " Timestamp('2020-08-09 00:00:00'),\n",
              " Timestamp('2020-08-10 00:00:00'),\n",
              " Timestamp('2020-08-11 00:00:00'),\n",
              " Timestamp('2020-08-12 00:00:00'),\n",
              " Timestamp('2020-08-13 00:00:00'),\n",
              " Timestamp('2020-08-14 00:00:00'),\n",
              " Timestamp('2020-08-15 00:00:00'),\n",
              " Timestamp('2020-08-16 00:00:00'),\n",
              " Timestamp('2020-08-17 00:00:00')]"
            ]
          },
          "metadata": {
            "tags": []
          },
          "execution_count": 197
        }
      ]
    },
    {
      "cell_type": "code",
      "metadata": {
        "id": "TiBuNacT5E5R"
      },
      "source": [
        "from pandas.tseries.offsets import DateOffset\n",
        "add_dates=[df2.index[-1] + DateOffset(days=x) for x in range(0,18)] #ventas.index[-1] + DateOffset(days=x) for x in range(0,61)]\n",
        "future_dates = pd.DataFrame(index = add_dates[1:], columns= df2.columns) #pronosticaremos"
      ],
      "execution_count": null,
      "outputs": []
    },
    {
      "cell_type": "code",
      "metadata": {
        "colab": {
          "base_uri": "https://localhost:8080/",
          "height": 576
        },
        "id": "I_3L4SVl6HwN",
        "outputId": "34ab1919-7e3f-44de-a0c9-8fa8e21b8de3"
      },
      "source": [
        "df2_predict=pd.DataFrame(Scaler.inverse_transform(pred_list),index=future_dates[-n_input:].index, columns=['Prediction'])\n",
        "df2_predict"
      ],
      "execution_count": null,
      "outputs": [
        {
          "output_type": "execute_result",
          "data": {
            "text/html": [
              "<div>\n",
              "<style scoped>\n",
              "    .dataframe tbody tr th:only-of-type {\n",
              "        vertical-align: middle;\n",
              "    }\n",
              "\n",
              "    .dataframe tbody tr th {\n",
              "        vertical-align: top;\n",
              "    }\n",
              "\n",
              "    .dataframe thead th {\n",
              "        text-align: right;\n",
              "    }\n",
              "</style>\n",
              "<table border=\"1\" class=\"dataframe\">\n",
              "  <thead>\n",
              "    <tr style=\"text-align: right;\">\n",
              "      <th></th>\n",
              "      <th>Prediction</th>\n",
              "    </tr>\n",
              "  </thead>\n",
              "  <tbody>\n",
              "    <tr>\n",
              "      <th>2020-08-01</th>\n",
              "      <td>36309.455121</td>\n",
              "    </tr>\n",
              "    <tr>\n",
              "      <th>2020-08-02</th>\n",
              "      <td>35192.203619</td>\n",
              "    </tr>\n",
              "    <tr>\n",
              "      <th>2020-08-03</th>\n",
              "      <td>34809.901747</td>\n",
              "    </tr>\n",
              "    <tr>\n",
              "      <th>2020-08-04</th>\n",
              "      <td>37904.832086</td>\n",
              "    </tr>\n",
              "    <tr>\n",
              "      <th>2020-08-05</th>\n",
              "      <td>40807.644855</td>\n",
              "    </tr>\n",
              "    <tr>\n",
              "      <th>2020-08-06</th>\n",
              "      <td>42887.003729</td>\n",
              "    </tr>\n",
              "    <tr>\n",
              "      <th>2020-08-07</th>\n",
              "      <td>43229.059151</td>\n",
              "    </tr>\n",
              "    <tr>\n",
              "      <th>2020-08-08</th>\n",
              "      <td>41100.188917</td>\n",
              "    </tr>\n",
              "    <tr>\n",
              "      <th>2020-08-09</th>\n",
              "      <td>37449.859045</td>\n",
              "    </tr>\n",
              "    <tr>\n",
              "      <th>2020-08-10</th>\n",
              "      <td>30974.904160</td>\n",
              "    </tr>\n",
              "    <tr>\n",
              "      <th>2020-08-11</th>\n",
              "      <td>33245.663940</td>\n",
              "    </tr>\n",
              "    <tr>\n",
              "      <th>2020-08-12</th>\n",
              "      <td>38688.731566</td>\n",
              "    </tr>\n",
              "    <tr>\n",
              "      <th>2020-08-13</th>\n",
              "      <td>41961.347691</td>\n",
              "    </tr>\n",
              "    <tr>\n",
              "      <th>2020-08-14</th>\n",
              "      <td>41965.150195</td>\n",
              "    </tr>\n",
              "    <tr>\n",
              "      <th>2020-08-15</th>\n",
              "      <td>41194.657989</td>\n",
              "    </tr>\n",
              "    <tr>\n",
              "      <th>2020-08-16</th>\n",
              "      <td>40267.236151</td>\n",
              "    </tr>\n",
              "    <tr>\n",
              "      <th>2020-08-17</th>\n",
              "      <td>39839.572674</td>\n",
              "    </tr>\n",
              "  </tbody>\n",
              "</table>\n",
              "</div>"
            ],
            "text/plain": [
              "              Prediction\n",
              "2020-08-01  36309.455121\n",
              "2020-08-02  35192.203619\n",
              "2020-08-03  34809.901747\n",
              "2020-08-04  37904.832086\n",
              "2020-08-05  40807.644855\n",
              "2020-08-06  42887.003729\n",
              "2020-08-07  43229.059151\n",
              "2020-08-08  41100.188917\n",
              "2020-08-09  37449.859045\n",
              "2020-08-10  30974.904160\n",
              "2020-08-11  33245.663940\n",
              "2020-08-12  38688.731566\n",
              "2020-08-13  41961.347691\n",
              "2020-08-14  41965.150195\n",
              "2020-08-15  41194.657989\n",
              "2020-08-16  40267.236151\n",
              "2020-08-17  39839.572674"
            ]
          },
          "metadata": {
            "tags": []
          },
          "execution_count": 200
        }
      ]
    },
    {
      "cell_type": "code",
      "metadata": {
        "colab": {
          "base_uri": "https://localhost:8080/",
          "height": 607
        },
        "id": "38lOjEAb6vW3",
        "outputId": "e90b0ec0-cf0c-4f33-955e-a374e1712bc2"
      },
      "source": [
        "df_proj = pd.concat([df2,df2_predict], axis=1)\n",
        "df_proj.tail(18)"
      ],
      "execution_count": null,
      "outputs": [
        {
          "output_type": "execute_result",
          "data": {
            "text/html": [
              "<div>\n",
              "<style scoped>\n",
              "    .dataframe tbody tr th:only-of-type {\n",
              "        vertical-align: middle;\n",
              "    }\n",
              "\n",
              "    .dataframe tbody tr th {\n",
              "        vertical-align: top;\n",
              "    }\n",
              "\n",
              "    .dataframe thead th {\n",
              "        text-align: right;\n",
              "    }\n",
              "</style>\n",
              "<table border=\"1\" class=\"dataframe\">\n",
              "  <thead>\n",
              "    <tr style=\"text-align: right;\">\n",
              "      <th></th>\n",
              "      <th>Time_Insp_finalizado_minutos</th>\n",
              "      <th>Prediction</th>\n",
              "    </tr>\n",
              "  </thead>\n",
              "  <tbody>\n",
              "    <tr>\n",
              "      <th>2020-07-31</th>\n",
              "      <td>35403.966666</td>\n",
              "      <td>NaN</td>\n",
              "    </tr>\n",
              "    <tr>\n",
              "      <th>2020-08-01</th>\n",
              "      <td>NaN</td>\n",
              "      <td>36309.455121</td>\n",
              "    </tr>\n",
              "    <tr>\n",
              "      <th>2020-08-02</th>\n",
              "      <td>NaN</td>\n",
              "      <td>35192.203619</td>\n",
              "    </tr>\n",
              "    <tr>\n",
              "      <th>2020-08-03</th>\n",
              "      <td>NaN</td>\n",
              "      <td>34809.901747</td>\n",
              "    </tr>\n",
              "    <tr>\n",
              "      <th>2020-08-04</th>\n",
              "      <td>NaN</td>\n",
              "      <td>37904.832086</td>\n",
              "    </tr>\n",
              "    <tr>\n",
              "      <th>2020-08-05</th>\n",
              "      <td>NaN</td>\n",
              "      <td>40807.644855</td>\n",
              "    </tr>\n",
              "    <tr>\n",
              "      <th>2020-08-06</th>\n",
              "      <td>NaN</td>\n",
              "      <td>42887.003729</td>\n",
              "    </tr>\n",
              "    <tr>\n",
              "      <th>2020-08-07</th>\n",
              "      <td>NaN</td>\n",
              "      <td>43229.059151</td>\n",
              "    </tr>\n",
              "    <tr>\n",
              "      <th>2020-08-08</th>\n",
              "      <td>NaN</td>\n",
              "      <td>41100.188917</td>\n",
              "    </tr>\n",
              "    <tr>\n",
              "      <th>2020-08-09</th>\n",
              "      <td>NaN</td>\n",
              "      <td>37449.859045</td>\n",
              "    </tr>\n",
              "    <tr>\n",
              "      <th>2020-08-10</th>\n",
              "      <td>NaN</td>\n",
              "      <td>30974.904160</td>\n",
              "    </tr>\n",
              "    <tr>\n",
              "      <th>2020-08-11</th>\n",
              "      <td>NaN</td>\n",
              "      <td>33245.663940</td>\n",
              "    </tr>\n",
              "    <tr>\n",
              "      <th>2020-08-12</th>\n",
              "      <td>NaN</td>\n",
              "      <td>38688.731566</td>\n",
              "    </tr>\n",
              "    <tr>\n",
              "      <th>2020-08-13</th>\n",
              "      <td>NaN</td>\n",
              "      <td>41961.347691</td>\n",
              "    </tr>\n",
              "    <tr>\n",
              "      <th>2020-08-14</th>\n",
              "      <td>NaN</td>\n",
              "      <td>41965.150195</td>\n",
              "    </tr>\n",
              "    <tr>\n",
              "      <th>2020-08-15</th>\n",
              "      <td>NaN</td>\n",
              "      <td>41194.657989</td>\n",
              "    </tr>\n",
              "    <tr>\n",
              "      <th>2020-08-16</th>\n",
              "      <td>NaN</td>\n",
              "      <td>40267.236151</td>\n",
              "    </tr>\n",
              "    <tr>\n",
              "      <th>2020-08-17</th>\n",
              "      <td>NaN</td>\n",
              "      <td>39839.572674</td>\n",
              "    </tr>\n",
              "  </tbody>\n",
              "</table>\n",
              "</div>"
            ],
            "text/plain": [
              "            Time_Insp_finalizado_minutos    Prediction\n",
              "2020-07-31                  35403.966666           NaN\n",
              "2020-08-01                           NaN  36309.455121\n",
              "2020-08-02                           NaN  35192.203619\n",
              "2020-08-03                           NaN  34809.901747\n",
              "2020-08-04                           NaN  37904.832086\n",
              "2020-08-05                           NaN  40807.644855\n",
              "2020-08-06                           NaN  42887.003729\n",
              "2020-08-07                           NaN  43229.059151\n",
              "2020-08-08                           NaN  41100.188917\n",
              "2020-08-09                           NaN  37449.859045\n",
              "2020-08-10                           NaN  30974.904160\n",
              "2020-08-11                           NaN  33245.663940\n",
              "2020-08-12                           NaN  38688.731566\n",
              "2020-08-13                           NaN  41961.347691\n",
              "2020-08-14                           NaN  41965.150195\n",
              "2020-08-15                           NaN  41194.657989\n",
              "2020-08-16                           NaN  40267.236151\n",
              "2020-08-17                           NaN  39839.572674"
            ]
          },
          "metadata": {
            "tags": []
          },
          "execution_count": 201
        }
      ]
    },
    {
      "cell_type": "code",
      "metadata": {
        "colab": {
          "base_uri": "https://localhost:8080/",
          "height": 331
        },
        "id": "kprFwP-57Nxv",
        "outputId": "1573a890-a116-4b7c-f9ec-a2de366223ed"
      },
      "source": [
        "plt.figure(figsize=(18,8), dpi=80)\n",
        "plt.plot(df_proj.index, df_proj['Time_Insp_finalizado_minutos'],color= 'mediumblue',label='Real')\n",
        "plt.plot(df_proj.index, df_proj['Prediction'],color= 'r',label='Pronóstico')\n",
        "plt.title('Predicción de los minutos trabajados por los supervisores de 17 días para el mes de agosto', fontsize=18)\n",
        "\n",
        "plt.xticks(fontsize=13)\n",
        "plt.yticks(fontsize=13)\n",
        "plt.xlabel('Fecha',fontsize=15)\n",
        "plt.ylabel('Minutos Totales',fontsize=15)\n",
        "plt.legend()\n",
        "plt.show();"
      ],
      "execution_count": null,
      "outputs": [
        {
          "output_type": "display_data",
          "data": {
            "image/png": "[encoded data removed]",
            "text/plain": [
              "<Figure size 1440x640 with 1 Axes>"
            ]
          },
          "metadata": {
            "tags": [],
            "needs_background": "light"
          }
        }
      ]
    },
    {
      "cell_type": "code",
      "metadata": {
        "colab": {
          "base_uri": "https://localhost:8080/",
          "height": 329
        },
        "id": "2MrJIEDu9Lh5",
        "outputId": "ab29505a-ece1-487d-ed11-c822cc3cd8c8"
      },
      "source": [
        "plt.figure(figsize=(18,8), dpi=80)\n",
        "plt.plot(df_proj.index, df_proj['Prediction'],color= 'darkblue')\n",
        "\n",
        "plt.title('Predicción de los minutos trabajados por los supervisores de 17 días para el mes de agosto', fontsize=18)\n",
        "\n",
        "plt.xticks(fontsize=13)\n",
        "plt.yticks(fontsize=13)\n",
        "\n",
        "plt.xlabel('Fecha',fontsize=15)\n",
        "plt.ylabel('Minutos Totales',fontsize=15)\n",
        "plt.legend()\n",
        "plt.show();"
      ],
      "execution_count": null,
      "outputs": [
        {
          "output_type": "stream",
          "text": [
            "No handles with labels found to put in legend.\n"
          ],
          "name": "stderr"
        },
        {
          "output_type": "display_data",
          "data": {
            "image/png": "[encoded data removed]",
            "text/plain": [
              "<Figure size 1440x640 with 1 Axes>"
            ]
          },
          "metadata": {
            "tags": [],
            "needs_background": "light"
          }
        }
      ]
    }
  ]
}